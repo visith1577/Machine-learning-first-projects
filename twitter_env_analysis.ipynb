{
  "nbformat": 4,
  "nbformat_minor": 0,
  "metadata": {
    "colab": {
      "name": "twitter_env_analysis.ipynb",
      "provenance": [],
      "collapsed_sections": [],
      "mount_file_id": "1qNpXxVqj6IOh4_0Foz0x6j9P6z6EvPds",
      "authorship_tag": "ABX9TyOQ5rJANVtSSrs1rlR6kjus",
      "include_colab_link": true
    },
    "kernelspec": {
      "name": "python3",
      "display_name": "Python 3"
    }
  },
  "cells": [
    {
      "cell_type": "markdown",
      "metadata": {
        "id": "view-in-github",
        "colab_type": "text"
      },
      "source": [
        "<a href=\"https://colab.research.google.com/github/visith1577/Machine-learning-first-projects/blob/main/twitter_env_analysis.ipynb\" target=\"_parent\"><img src=\"https://colab.research.google.com/assets/colab-badge.svg\" alt=\"Open In Colab\"/></a>"
      ]
    },
    {
      "cell_type": "code",
      "metadata": {
        "id": "zYdN20y-6UcF"
      },
      "source": [
        "import numpy as np\r\n",
        "import pandas as pd\r\n",
        "import matplotlib.pyplot as plt\r\n",
        "import seaborn as sns"
      ],
      "execution_count": null,
      "outputs": []
    },
    {
      "cell_type": "code",
      "metadata": {
        "colab": {
          "base_uri": "https://localhost:8080/",
          "height": 195
        },
        "id": "7JFz6eOjqfli",
        "outputId": "e96b8818-adc7-42c8-d439-09880c58c1be"
      },
      "source": [
        "df_train = pd.read_csv('/content/drive/MyDrive/nlp-beginner/train.csv')\r\n",
        "df_train.head()"
      ],
      "execution_count": null,
      "outputs": [
        {
          "output_type": "execute_result",
          "data": {
            "text/html": [
              "<div>\n",
              "<style scoped>\n",
              "    .dataframe tbody tr th:only-of-type {\n",
              "        vertical-align: middle;\n",
              "    }\n",
              "\n",
              "    .dataframe tbody tr th {\n",
              "        vertical-align: top;\n",
              "    }\n",
              "\n",
              "    .dataframe thead th {\n",
              "        text-align: right;\n",
              "    }\n",
              "</style>\n",
              "<table border=\"1\" class=\"dataframe\">\n",
              "  <thead>\n",
              "    <tr style=\"text-align: right;\">\n",
              "      <th></th>\n",
              "      <th>id</th>\n",
              "      <th>keyword</th>\n",
              "      <th>location</th>\n",
              "      <th>text</th>\n",
              "      <th>target</th>\n",
              "    </tr>\n",
              "  </thead>\n",
              "  <tbody>\n",
              "    <tr>\n",
              "      <th>0</th>\n",
              "      <td>1</td>\n",
              "      <td>NaN</td>\n",
              "      <td>NaN</td>\n",
              "      <td>Our Deeds are the Reason of this #earthquake M...</td>\n",
              "      <td>1</td>\n",
              "    </tr>\n",
              "    <tr>\n",
              "      <th>1</th>\n",
              "      <td>4</td>\n",
              "      <td>NaN</td>\n",
              "      <td>NaN</td>\n",
              "      <td>Forest fire near La Ronge Sask. Canada</td>\n",
              "      <td>1</td>\n",
              "    </tr>\n",
              "    <tr>\n",
              "      <th>2</th>\n",
              "      <td>5</td>\n",
              "      <td>NaN</td>\n",
              "      <td>NaN</td>\n",
              "      <td>All residents asked to 'shelter in place' are ...</td>\n",
              "      <td>1</td>\n",
              "    </tr>\n",
              "    <tr>\n",
              "      <th>3</th>\n",
              "      <td>6</td>\n",
              "      <td>NaN</td>\n",
              "      <td>NaN</td>\n",
              "      <td>13,000 people receive #wildfires evacuation or...</td>\n",
              "      <td>1</td>\n",
              "    </tr>\n",
              "    <tr>\n",
              "      <th>4</th>\n",
              "      <td>7</td>\n",
              "      <td>NaN</td>\n",
              "      <td>NaN</td>\n",
              "      <td>Just got sent this photo from Ruby #Alaska as ...</td>\n",
              "      <td>1</td>\n",
              "    </tr>\n",
              "  </tbody>\n",
              "</table>\n",
              "</div>"
            ],
            "text/plain": [
              "   id keyword  ...                                               text target\n",
              "0   1     NaN  ...  Our Deeds are the Reason of this #earthquake M...      1\n",
              "1   4     NaN  ...             Forest fire near La Ronge Sask. Canada      1\n",
              "2   5     NaN  ...  All residents asked to 'shelter in place' are ...      1\n",
              "3   6     NaN  ...  13,000 people receive #wildfires evacuation or...      1\n",
              "4   7     NaN  ...  Just got sent this photo from Ruby #Alaska as ...      1\n",
              "\n",
              "[5 rows x 5 columns]"
            ]
          },
          "metadata": {
            "tags": []
          },
          "execution_count": 3
        }
      ]
    },
    {
      "cell_type": "code",
      "metadata": {
        "colab": {
          "base_uri": "https://localhost:8080/",
          "height": 195
        },
        "id": "_FmrnWjPrBJS",
        "outputId": "d02e789e-8872-4f4d-dae6-a209a904345a"
      },
      "source": [
        "df_test =pd.read_csv('/content/drive/MyDrive/nlp-beginner/test.csv')\r\n",
        "df_test.head()"
      ],
      "execution_count": null,
      "outputs": [
        {
          "output_type": "execute_result",
          "data": {
            "text/html": [
              "<div>\n",
              "<style scoped>\n",
              "    .dataframe tbody tr th:only-of-type {\n",
              "        vertical-align: middle;\n",
              "    }\n",
              "\n",
              "    .dataframe tbody tr th {\n",
              "        vertical-align: top;\n",
              "    }\n",
              "\n",
              "    .dataframe thead th {\n",
              "        text-align: right;\n",
              "    }\n",
              "</style>\n",
              "<table border=\"1\" class=\"dataframe\">\n",
              "  <thead>\n",
              "    <tr style=\"text-align: right;\">\n",
              "      <th></th>\n",
              "      <th>id</th>\n",
              "      <th>keyword</th>\n",
              "      <th>location</th>\n",
              "      <th>text</th>\n",
              "    </tr>\n",
              "  </thead>\n",
              "  <tbody>\n",
              "    <tr>\n",
              "      <th>0</th>\n",
              "      <td>0</td>\n",
              "      <td>NaN</td>\n",
              "      <td>NaN</td>\n",
              "      <td>Just happened a terrible car crash</td>\n",
              "    </tr>\n",
              "    <tr>\n",
              "      <th>1</th>\n",
              "      <td>2</td>\n",
              "      <td>NaN</td>\n",
              "      <td>NaN</td>\n",
              "      <td>Heard about #earthquake is different cities, s...</td>\n",
              "    </tr>\n",
              "    <tr>\n",
              "      <th>2</th>\n",
              "      <td>3</td>\n",
              "      <td>NaN</td>\n",
              "      <td>NaN</td>\n",
              "      <td>there is a forest fire at spot pond, geese are...</td>\n",
              "    </tr>\n",
              "    <tr>\n",
              "      <th>3</th>\n",
              "      <td>9</td>\n",
              "      <td>NaN</td>\n",
              "      <td>NaN</td>\n",
              "      <td>Apocalypse lighting. #Spokane #wildfires</td>\n",
              "    </tr>\n",
              "    <tr>\n",
              "      <th>4</th>\n",
              "      <td>11</td>\n",
              "      <td>NaN</td>\n",
              "      <td>NaN</td>\n",
              "      <td>Typhoon Soudelor kills 28 in China and Taiwan</td>\n",
              "    </tr>\n",
              "  </tbody>\n",
              "</table>\n",
              "</div>"
            ],
            "text/plain": [
              "   id keyword location                                               text\n",
              "0   0     NaN      NaN                 Just happened a terrible car crash\n",
              "1   2     NaN      NaN  Heard about #earthquake is different cities, s...\n",
              "2   3     NaN      NaN  there is a forest fire at spot pond, geese are...\n",
              "3   9     NaN      NaN           Apocalypse lighting. #Spokane #wildfires\n",
              "4  11     NaN      NaN      Typhoon Soudelor kills 28 in China and Taiwan"
            ]
          },
          "metadata": {
            "tags": []
          },
          "execution_count": 4
        }
      ]
    },
    {
      "cell_type": "code",
      "metadata": {
        "colab": {
          "base_uri": "https://localhost:8080/"
        },
        "id": "VeYJuN7PrVBg",
        "outputId": "698ac6ed-7780-4286-d65e-cf3b1c4b2186"
      },
      "source": [
        "df_train.info"
      ],
      "execution_count": null,
      "outputs": [
        {
          "output_type": "execute_result",
          "data": {
            "text/plain": [
              "<bound method DataFrame.info of          id keyword  ...                                               text target\n",
              "0         1     NaN  ...  Our Deeds are the Reason of this #earthquake M...      1\n",
              "1         4     NaN  ...             Forest fire near La Ronge Sask. Canada      1\n",
              "2         5     NaN  ...  All residents asked to 'shelter in place' are ...      1\n",
              "3         6     NaN  ...  13,000 people receive #wildfires evacuation or...      1\n",
              "4         7     NaN  ...  Just got sent this photo from Ruby #Alaska as ...      1\n",
              "...     ...     ...  ...                                                ...    ...\n",
              "7608  10869     NaN  ...  Two giant cranes holding a bridge collapse int...      1\n",
              "7609  10870     NaN  ...  @aria_ahrary @TheTawniest The out of control w...      1\n",
              "7610  10871     NaN  ...  M1.94 [01:04 UTC]?5km S of Volcano Hawaii. htt...      1\n",
              "7611  10872     NaN  ...  Police investigating after an e-bike collided ...      1\n",
              "7612  10873     NaN  ...  The Latest: More Homes Razed by Northern Calif...      1\n",
              "\n",
              "[7613 rows x 5 columns]>"
            ]
          },
          "metadata": {
            "tags": []
          },
          "execution_count": 5
        }
      ]
    },
    {
      "cell_type": "code",
      "metadata": {
        "colab": {
          "base_uri": "https://localhost:8080/"
        },
        "id": "FJ8FukbDrjW2",
        "outputId": "2212fb3d-e634-4cab-89dd-d2b779aae57f"
      },
      "source": [
        "df_train.info()"
      ],
      "execution_count": null,
      "outputs": [
        {
          "output_type": "stream",
          "text": [
            "<class 'pandas.core.frame.DataFrame'>\n",
            "RangeIndex: 7613 entries, 0 to 7612\n",
            "Data columns (total 5 columns):\n",
            " #   Column    Non-Null Count  Dtype \n",
            "---  ------    --------------  ----- \n",
            " 0   id        7613 non-null   int64 \n",
            " 1   keyword   7552 non-null   object\n",
            " 2   location  5080 non-null   object\n",
            " 3   text      7613 non-null   object\n",
            " 4   target    7613 non-null   int64 \n",
            "dtypes: int64(2), object(3)\n",
            "memory usage: 297.5+ KB\n"
          ],
          "name": "stdout"
        }
      ]
    },
    {
      "cell_type": "code",
      "metadata": {
        "colab": {
          "base_uri": "https://localhost:8080/"
        },
        "id": "HgjDDlZesifX",
        "outputId": "a9406894-5002-4f0b-d45d-635a420578f0"
      },
      "source": [
        "df_train.shape"
      ],
      "execution_count": null,
      "outputs": [
        {
          "output_type": "execute_result",
          "data": {
            "text/plain": [
              "(7613, 5)"
            ]
          },
          "metadata": {
            "tags": []
          },
          "execution_count": 7
        }
      ]
    },
    {
      "cell_type": "code",
      "metadata": {
        "colab": {
          "base_uri": "https://localhost:8080/",
          "height": 295
        },
        "id": "tNAqTgL8smzf",
        "outputId": "1c1dad53-280e-48a4-a96a-6cee3a07effa"
      },
      "source": [
        "sns.countplot(y = df_train.keyword,order = df_train['keyword'].value_counts().sort_values(ascending=False).iloc[0:20].index)\r\n",
        "plt.title(\"Count of Keywords\")\r\n",
        "plt.show() # It shows the most usage keywords "
      ],
      "execution_count": null,
      "outputs": [
        {
          "output_type": "display_data",
          "data": {
            "image/png": "[encoded data removed]",
            "text/plain": [
              "<Figure size 432x288 with 1 Axes>"
            ]
          },
          "metadata": {
            "tags": [],
            "needs_background": "light"
          }
        }
      ]
    },
    {
      "cell_type": "code",
      "metadata": {
        "id": "Xrc7EP7mtHl-"
      },
      "source": [
        "for i in ['keyword', 'location']:\r\n",
        "  df_train[i] = df_train[i].fillna('None')\r\n",
        "  df_test[i] = df_test[i].fillna('None')"
      ],
      "execution_count": null,
      "outputs": []
    },
    {
      "cell_type": "code",
      "metadata": {
        "colab": {
          "base_uri": "https://localhost:8080/"
        },
        "id": "_Q63fNNtu2gT",
        "outputId": "9f2e387e-6ffa-4e2e-d26a-33bf90388ac7"
      },
      "source": [
        "len(set(df_train['location']))"
      ],
      "execution_count": null,
      "outputs": [
        {
          "output_type": "execute_result",
          "data": {
            "text/plain": [
              "3342"
            ]
          },
          "metadata": {
            "tags": []
          },
          "execution_count": 10
        }
      ]
    },
    {
      "cell_type": "code",
      "metadata": {
        "colab": {
          "base_uri": "https://localhost:8080/",
          "height": 358
        },
        "id": "pOXgFDMpx6Z1",
        "outputId": "96aeaac0-ab68-4d63-f9e8-9e9580557574"
      },
      "source": [
        "raw_loc = df_train.location.value_counts()\r\n",
        "top_loc_disaster = list(raw_loc[raw_loc>=10].index)\r\n",
        "top_only_disaster = df_train[df_train.location.isin(top_loc_disaster)]\r\n",
        "\r\n",
        "top_location = top_only_disaster.groupby('location')['target'].mean().sort_values(ascending=False)\r\n",
        "sns.barplot(x=top_location.index, y=top_location)\r\n",
        "plt.xticks(rotation=90)\r\n",
        "plt.show()\r\n"
      ],
      "execution_count": null,
      "outputs": [
        {
          "output_type": "display_data",
          "data": {
            "image/png": "[encoded data removed]",
            "text/plain": [
              "<Figure size 432x288 with 1 Axes>"
            ]
          },
          "metadata": {
            "tags": [],
            "needs_background": "light"
          }
        }
      ]
    },
    {
      "cell_type": "code",
      "metadata": {
        "id": "VTYaHaFtvi89"
      },
      "source": [
        "def clean_location(x):\r\n",
        "  if x == 'None': \r\n",
        "    return 'None'\r\n",
        "  elif x == 'Earth' or x == 'Worldwide' or x == 'Everywhere':\r\n",
        "    return 'Earth'\r\n",
        "  elif x == 'Newyork' or x == 'NYC':\r\n",
        "    return 'Newyork'\r\n",
        "  elif 'London' in x:\r\n",
        "    return 'London'\r\n",
        "  elif 'Mumbai' in x:\r\n",
        "    return 'Mumbai'\r\n",
        "  elif 'Washington' in x and 'D' in x and 'C' in x:\r\n",
        "    return 'Washington DC'\r\n",
        "  elif 'San Francisco' in x:\r\n",
        "    return 'San Francisco'\r\n",
        "  elif 'Los Angeles' in x:\r\n",
        "    return 'Los Angeles'\r\n",
        "  elif 'Seattle' in x:\r\n",
        "    return 'Seattle'\r\n",
        "  elif 'Chicago' in x:\r\n",
        "    return 'Chicago'\r\n",
        "  elif 'Toronto' in x:\r\n",
        "    return 'Toronto'\r\n",
        "  elif 'Sacramento' in x:\r\n",
        "    return 'Sacramento'\r\n",
        "  elif 'Atlanta' in x:\r\n",
        "    return 'Atlanta'\r\n",
        "  elif 'California' in x:\r\n",
        "    return 'California'\r\n",
        "  elif 'Florida' in x:\r\n",
        "    return 'Florida'\r\n",
        "  elif 'Texas' in x:\r\n",
        "    return 'Texas'\r\n",
        "  elif 'United States' in x or 'USA' in x:\r\n",
        "    return 'USA'\r\n",
        "  elif 'United Kingdom' in x or 'UK' in x or 'Britain' in x:\r\n",
        "    return 'UK' \r\n",
        "  elif 'Canada' in x:\r\n",
        "    return 'Canada'\r\n",
        "  elif 'India' in x:\r\n",
        "    return 'India'\r\n",
        "  elif 'Kenya' in x:\r\n",
        "    return 'Kenya'\r\n",
        "  elif 'Nigeria' in x:\r\n",
        "    return 'Nigeria'\r\n",
        "  elif 'Australia' in x:\r\n",
        "    return 'Australia'\r\n",
        "  elif 'Indonesia' in x:\r\n",
        "    return 'Indonesia'\r\n",
        "  elif x in top_location:\r\n",
        "    return x\r\n",
        "  else: \r\n",
        "    return 'Others'\r\n",
        "    \r\n",
        "df_train['location'] = df_train['location'].apply(lambda x: clean_location(str(x)))\r\n",
        "df_test['location'] = df_test['location'].apply(lambda x: clean_location(str(x)))         "
      ],
      "execution_count": null,
      "outputs": []
    },
    {
      "cell_type": "code",
      "metadata": {
        "id": "PV-RfobRO6bC"
      },
      "source": [
        "class TextCleaningUtils:\r\n",
        "    '''\r\n",
        "        This class contains implementations of various text cleaning operations (Static Methods)\r\n",
        "    '''\r\n",
        "\r\n",
        "    cleaning_regex_map = {\r\n",
        "        'web_links': r'(?i)(?:(?:http(?:s)?:)|(?:www\\.))\\S+',\r\n",
        "        'special_chars': r'[^a-zA-Z\\s\\.,!?;:]+',  \r\n",
        "        'redundant_spaces': r'\\s\\s+',\r\n",
        "        'redundant_newlines': r'[\\r|\\n|\\r\\n]+',\r\n",
        "        'twitter_handles': r'[#@]\\S+',\r\n",
        "        'punctuations': r'[\\.,!?;:]+'\r\n",
        "    }\r\n",
        "\r\n",
        "          \r\n",
        "    def expand_abbreviations(text):\r\n",
        "        text = re.sub(r\"he's\", \"he is\", text)\r\n",
        "        text = re.sub(r\"there's\", \"there is\", text)\r\n",
        "        text = re.sub(r\"We're\", \"We are\", text)\r\n",
        "        text = re.sub(r\"That's\", \"That is\", text)\r\n",
        "        text = re.sub(r\"won't\", \"will not\", text)\r\n",
        "        text = re.sub(r\"they're\", \"they are\", text)\r\n",
        "        text = re.sub(r\"Can't\", \"Cannot\", text)\r\n",
        "        text = re.sub(r\"wasn't\", \"was not\", text)\r\n",
        "        text = re.sub(r\"don\\x89Ûªt\", \"do not\", text)\r\n",
        "        text= re.sub(r\"aren't\", \"are not\", text)\r\n",
        "        text = re.sub(r\"isn't\", \"is not\", text)\r\n",
        "        text = re.sub(r\"What's\", \"What is\", text)\r\n",
        "        text = re.sub(r\"haven't\", \"have not\", text)\r\n",
        "        text = re.sub(r\"hasn't\", \"has not\", text)\r\n",
        "        text = re.sub(r\"There's\", \"There is\", text)\r\n",
        "        text = re.sub(r\"He's\", \"He is\", text)\r\n",
        "        text = re.sub(r\"It's\", \"It is\", text)\r\n",
        "        text = re.sub(r\"You're\", \"You are\", text)\r\n",
        "        text = re.sub(r\"I'M\", \"I am\", text)\r\n",
        "        text = re.sub(r\"shouldn't\", \"should not\", text)\r\n",
        "        text = re.sub(r\"wouldn't\", \"would not\", text)\r\n",
        "        text = re.sub(r\"couldn't\", \"could not\", text)\r\n",
        "        text = re.sub(r\"i'm\", \"I am\", text)\r\n",
        "        text = re.sub(r\"I'm\", \"I am\", text)\r\n",
        "        text = re.sub(r\"Isn't\", \"is not\", text)\r\n",
        "        text = re.sub(r\"Here's\", \"Here is\", text)\r\n",
        "        text = re.sub(r\"you've\", \"you have\", text)\r\n",
        "        text = re.sub(r\"you\\x89Ûªve\", \"you have\", text)\r\n",
        "        text = re.sub(r\"we're\", \"we are\", text)\r\n",
        "        text = re.sub(r\"what's\", \"what is\", text)\r\n",
        "        text = re.sub(r\"couldn't\", \"could not\", text)\r\n",
        "        text = re.sub(r\"we've\", \"we have\", text)\r\n",
        "        text = re.sub(r\"it\\x89Ûªs\", \"it is\", text)\r\n",
        "        text = re.sub(r\"doesn\\x89Ûªt\", \"does not\", text)\r\n",
        "        text = re.sub(r\"It\\x89Ûªs\", \"It is\", text)\r\n",
        "        text = re.sub(r\"Here\\x89Ûªs\", \"Here is\", text)\r\n",
        "        text = re.sub(r\"who's\", \"who is\", text)\r\n",
        "        text = re.sub(r\"I\\x89Ûªve\", \"I have\", text)\r\n",
        "        text = re.sub(r\"y'all\", \"you all\", text)\r\n",
        "        text = re.sub(r\"can\\x89Ûªt\", \"cannot\", text)\r\n",
        "        text = re.sub(r\"would've\", \"would have\", text)\r\n",
        "        text = re.sub(r\"it'll\", \"it will\", text)\r\n",
        "        text = re.sub(r\"we'll\", \"we will\", text)\r\n",
        "        text = re.sub(r\"wouldn\\x89Ûªt\", \"would not\", text)\r\n",
        "        text = re.sub(r\"We've\", \"We have\", text)\r\n",
        "        text = re.sub(r\"he'll\", \"he will\", text)\r\n",
        "        text = re.sub(r\"Y'all\", \"You all\", text)\r\n",
        "        text = re.sub(r\"Weren't\", \"Were not\", text)\r\n",
        "        text = re.sub(r\"Didn't\", \"Did not\", text)\r\n",
        "        text = re.sub(r\"they'll\", \"they will\", text)\r\n",
        "        text = re.sub(r\"DON'T\", \"DO NOT\", text)\r\n",
        "        text = re.sub(r\"That\\x89Ûªs\", \"That is\", text)\r\n",
        "        text = re.sub(r\"they've\", \"they have\", text)\r\n",
        "        text = re.sub(r\"they'd\", \"they would\", text)\r\n",
        "        text = re.sub(r\"i'd\", \"I would\", text)\r\n",
        "        text = re.sub(r\"should've\", \"should have\", text)\r\n",
        "        text = re.sub(r\"You\\x89Ûªre\", \"You are\", text)\r\n",
        "        text = re.sub(r\"where's\", \"where is\", text)\r\n",
        "        text = re.sub(r\"Don\\x89Ûªt\", \"Do not\", text)\r\n",
        "        text = re.sub(r\"i'll\", \"I will\", text)\r\n",
        "        text = re.sub(r\"weren't\", \"were not\", text)\r\n",
        "        text = re.sub(r\"They're\", \"They are\", text)\r\n",
        "        text = re.sub(r\"Can\\x89Ûªt\", \"Cannot\", text)\r\n",
        "        text = re.sub(r\"you\\x89Ûªll\", \"you will\", text)\r\n",
        "        text = re.sub(r\"I\\x89Ûªd\", \"I would\", text)\r\n",
        "        text = re.sub(r\"let's\", \"let us\", text)\r\n",
        "        text = re.sub(r\"it's\", \"it is\", text)\r\n",
        "        text = re.sub(r\"can't\", \"cannot\", text)\r\n",
        "        text = re.sub(r\"don't\", \"do not\", text)\r\n",
        "        text = re.sub(r\"you're\", \"you are\", text)\r\n",
        "        text = re.sub(r\"i've\", \"I have\", text)\r\n",
        "        text = re.sub(r\"that's\", \"that is\", text)\r\n",
        "        text = re.sub(r\"i'll\", \"I will\", text)\r\n",
        "        text = re.sub(r\"doesn't\", \"does not\",text)\r\n",
        "        text = re.sub(r\"i'd\", \"I would\", text)\r\n",
        "        text = re.sub(r\"didn't\", \"did not\", text)\r\n",
        "        text = re.sub(r\"ain't\", \"am not\", text)\r\n",
        "        text = re.sub(r\"you'll\", \"you will\", text)\r\n",
        "        text = re.sub(r\"I've\", \"I have\", text)\r\n",
        "        text = re.sub(r\"Don't\", \"do not\", text)\r\n",
        "        text = re.sub(r\"I'll\", \"I will\", text)\r\n",
        "        text = re.sub(r\"I'd\", \"I would\", text)\r\n",
        "        text = re.sub(r\"Let's\", \"Let us\", text)\r\n",
        "        text = re.sub(r\"you'd\", \"You would\", text)\r\n",
        "        text = re.sub(r\"It's\", \"It is\", text)\r\n",
        "        text = re.sub(r\"Ain't\", \"am not\", text)\r\n",
        "        text = re.sub(r\"Haven't\", \"Have not\", text)\r\n",
        "        text = re.sub(r\"Hadn't\", \"Had not\", text)\r\n",
        "        text = re.sub(r\"Could've\", \"Could have\", text)\r\n",
        "        text = re.sub(r\"youve\", \"you have\", text)  \r\n",
        "        text = re.sub(r\"donå«t\", \"do not\", text)  \r\n",
        "\r\n",
        "        return text\r\n",
        "\r\n",
        "    def remove_emojis(text):\r\n",
        "        emoji_clean= re.compile(\"[\"\r\n",
        "                           u\"\\U0001F600-\\U0001F64F\"  # emoticons\r\n",
        "                           u\"\\U0001F300-\\U0001F5FF\"  # symbols & pictographs\r\n",
        "                           u\"\\U0001F680-\\U0001F6FF\"  # transport & map symbols\r\n",
        "                           u\"\\U0001F1E0-\\U0001F1FF\"  # flags (iOS)\r\n",
        "                           u\"\\U00002702-\\U000027B0\"\r\n",
        "                           u\"\\U000024C2-\\U0001F251\"\r\n",
        "                           \"]+\", flags=re.UNICODE)\r\n",
        "        text=emoji_clean.sub(r'',text)\r\n",
        "        url_clean= re.compile(r\"https://\\S+|www\\.\\S+\")\r\n",
        "        text=url_clean.sub(r'',text)\r\n",
        "        return text\r\n",
        "\r\n",
        "\r\n",
        "    @staticmethod\r\n",
        "    def clean_text_from_regex(text, text_clean_regex):\r\n",
        "        '''\r\n",
        "            Follow a particular cleaning expression, provided\r\n",
        "            as an input by an user to clean the text.\r\n",
        "        '''\r\n",
        "\r\n",
        "        text = text_clean_regex.sub(' ', text).strip()\r\n",
        "        return text\r\n",
        "\r\n",
        "    @staticmethod\r\n",
        "    def strip_html(text):\r\n",
        "        soup = BeautifulSoup(text, \"html.parser\")\r\n",
        "        return soup.get_text()\r\n",
        "\r\n",
        "    @staticmethod\r\n",
        "    def remove_special_chars(text):\r\n",
        "        '''\r\n",
        "            Replace any special character provided as default,\r\n",
        "            which is present in the text with space\r\n",
        "        '''\r\n",
        "\r\n",
        "        special_chars_regex = re.compile(TextCleaningUtils.cleaning_regex_map['special_chars'])\r\n",
        "        text = TextCleaningUtils.clean_text_from_regex(text, special_chars_regex)\r\n",
        "        return text\r\n",
        "\r\n",
        "\r\n",
        "    @staticmethod\r\n",
        "    def remove_redundant_spaces(text):\r\n",
        "        '''\r\n",
        "            Remove any redundant space provided as default,\r\n",
        "            that is present in the text.\r\n",
        "        '''\r\n",
        "\r\n",
        "        redundant_spaces_regex = re.compile(\r\n",
        "            TextCleaningUtils.cleaning_regex_map['redundant_spaces'])\r\n",
        "        text = TextCleaningUtils.clean_text_from_regex(text, redundant_spaces_regex)\r\n",
        "        return text\r\n",
        "\r\n",
        "    @staticmethod\r\n",
        "    def remove_web_links(text):\r\n",
        "        '''\r\n",
        "            Removes any web link that follows a particular default expression,\r\n",
        "            present in the text.\r\n",
        "        '''\r\n",
        "\r\n",
        "        web_links_regex = re.compile(TextCleaningUtils.cleaning_regex_map['web_links'])\r\n",
        "        text = TextCleaningUtils.clean_text_from_regex(text, web_links_regex)\r\n",
        "        return text\r\n",
        "\r\n",
        "\r\n",
        "    @staticmethod\r\n",
        "    def remove_twitter_handles(text):\r\n",
        "        '''\r\n",
        "            Removes any twitter handle present in the text.\r\n",
        "        '''\r\n",
        "\r\n",
        "        twitter_handles_regex = re.compile(TextCleaningUtils.cleaning_regex_map['twitter_handles'])\r\n",
        "        text = TextCleaningUtils.clean_text_from_regex(text, twitter_handles_regex)\r\n",
        "        return text\r\n",
        "\r\n",
        "    @staticmethod\r\n",
        "    def remove_redundant_newlines(text):\r\n",
        "        '''\r\n",
        "            Removes any redundant new line present in the text.\r\n",
        "        '''\r\n",
        "\r\n",
        "        redundant_newlines_regex = re.compile(\r\n",
        "            TextCleaningUtils.cleaning_regex_map['redundant_newlines'])\r\n",
        "        text = TextCleaningUtils.clean_text_from_regex(text, redundant_newlines_regex)\r\n",
        "        return text\r\n",
        "\r\n",
        "    @staticmethod\r\n",
        "    def remove_punctuations(text):\r\n",
        "          '''\r\n",
        "           Removes any puncuations.\r\n",
        "          '''\r\n",
        "\r\n",
        "          punctuations_regex = re.compile(\r\n",
        "              TextCleaningUtils.cleaning_regex_map['punctuations']\r\n",
        "          )\r\n",
        "          text = TextCleaningUtils.clean_text_from_regex(text, punctuations_regex)\r\n",
        "          return text\r\n",
        "\r\n",
        "    @staticmethod\r\n",
        "    def remove_exaggerated_words(text):\r\n",
        "        '''\r\n",
        "            Removes any exaggerated word present in the text.\r\n",
        "        '''\r\n",
        "\r\n",
        "        return ''.join(''.join(s)[:2] for _, s in itertools.groupby(text))\r\n",
        "\r\n",
        "    @staticmethod\r\n",
        "    def replace_multiple_chars(text):\r\n",
        "        '''\r\n",
        "            Replaces multiple characters present in the text.\r\n",
        "        '''\r\n",
        "\r\n",
        "        char_list = ['.', '?', '!', '#', '$', '/', '@', '*', '(', ')', '+']\r\n",
        "        final_text = ''\r\n",
        "        for i in char_list:\r\n",
        "            if i in text:\r\n",
        "                pattern = \"\\\\\" + i + '{2,}'\r\n",
        "                repl_str = i.replace(\"\\\\\", \"\")\r\n",
        "                text = re.sub(pattern, repl_str, text)\r\n",
        "                final_text = ' '.join(text.split())\r\n",
        "        return final_text\r\n",
        "\r\n",
        "    @staticmethod\r\n",
        "    def replace_sign(text):\r\n",
        "        '''\r\n",
        "          Replaces any sign with words like & with 'and', in the text.\r\n",
        "        '''\r\n",
        "        sign_list = {'&': ' and ', '/': ' or ', '\\xa0': ' '}\r\n",
        "        final_text = ''\r\n",
        "        for i in sign_list:\r\n",
        "            if i in text:\r\n",
        "                text = re.sub(i, sign_list[i], text)\r\n",
        "                final_text = ' '.join(text.split())\r\n",
        "        return final_text\r\n",
        "\r\n",
        "    @staticmethod\r\n",
        "    def remove_accented_char(text):\r\n",
        "        text = unicodedata.normalize('NFD', text) \\\r\n",
        "            .encode('ascii', 'ignore') \\\r\n",
        "            .decode(\"utf-8\")\r\n",
        "        return str(text)\r\n",
        "\r\n",
        "\r\n",
        "\r\n",
        "    @staticmethod\r\n",
        "    def replace_characters(text, replace_map):\r\n",
        "        '''\r\n",
        "            Replaces any character custom provided by an user.\r\n",
        "        '''\r\n",
        "\r\n",
        "        for char, replace_val in replace_map.items():\r\n",
        "            text = text.replace(char, replace_val)\r\n",
        "        return text\r\n",
        "    \r\n",
        "def clean_data(df,col_to_clean):\r\n",
        "    df[col_to_clean] = df[col_to_clean].apply(TextCleaningUtils.expand_abbreviations)\r\n",
        "    df[col_to_clean] = df[col_to_clean].apply(TextCleaningUtils.remove_emojis)\r\n",
        "    df[col_to_clean] = df[col_to_clean].apply(TextCleaningUtils.remove_special_chars)\r\n",
        "    df[col_to_clean] = df[col_to_clean].apply(TextCleaningUtils.remove_redundant_spaces)\r\n",
        "    df[col_to_clean] = df[col_to_clean].apply(TextCleaningUtils.remove_punctuations)\r\n",
        "    df[col_to_clean] = df[col_to_clean].apply(TextCleaningUtils.remove_exaggerated_words)\r\n",
        "    df[col_to_clean] = df[col_to_clean].apply(TextCleaningUtils.remove_redundant_newlines)\r\n",
        "    df[col_to_clean] = df[col_to_clean].apply(TextCleaningUtils.remove_twitter_handles)\r\n",
        "    df[col_to_clean] = df[col_to_clean].apply(TextCleaningUtils.remove_web_links)\r\n",
        "    df[col_to_clean] = df[col_to_clean].astype(str)\r\n",
        "    df[col_to_clean] = df[col_to_clean].str.lower()\r\n",
        "    \r\n",
        "    return df \r\n",
        "     "
      ],
      "execution_count": null,
      "outputs": []
    },
    {
      "cell_type": "code",
      "metadata": {
        "id": "PSw8Djd2Ii_b"
      },
      "source": [
        "import re\r\n",
        "import itertools"
      ],
      "execution_count": null,
      "outputs": []
    },
    {
      "cell_type": "code",
      "metadata": {
        "id": "wDBueZk9yY1e"
      },
      "source": [
        "cleaned_data = clean_data(df_train, 'text')"
      ],
      "execution_count": null,
      "outputs": []
    },
    {
      "cell_type": "code",
      "metadata": {
        "id": "xkS1ob4DIl_9"
      },
      "source": [
        "cleaned_test_data = clean_data(df_test, 'text')"
      ],
      "execution_count": null,
      "outputs": []
    },
    {
      "cell_type": "code",
      "metadata": {
        "colab": {
          "base_uri": "https://localhost:8080/",
          "height": 491
        },
        "id": "Fz1XBeTqI55z",
        "outputId": "71653837-d45b-4513-de82-598225e0f202"
      },
      "source": [
        "cleaned_data.head(15)"
      ],
      "execution_count": null,
      "outputs": [
        {
          "output_type": "execute_result",
          "data": {
            "text/html": [
              "<div>\n",
              "<style scoped>\n",
              "    .dataframe tbody tr th:only-of-type {\n",
              "        vertical-align: middle;\n",
              "    }\n",
              "\n",
              "    .dataframe tbody tr th {\n",
              "        vertical-align: top;\n",
              "    }\n",
              "\n",
              "    .dataframe thead th {\n",
              "        text-align: right;\n",
              "    }\n",
              "</style>\n",
              "<table border=\"1\" class=\"dataframe\">\n",
              "  <thead>\n",
              "    <tr style=\"text-align: right;\">\n",
              "      <th></th>\n",
              "      <th>id</th>\n",
              "      <th>keyword</th>\n",
              "      <th>location</th>\n",
              "      <th>text</th>\n",
              "      <th>target</th>\n",
              "    </tr>\n",
              "  </thead>\n",
              "  <tbody>\n",
              "    <tr>\n",
              "      <th>0</th>\n",
              "      <td>1</td>\n",
              "      <td>None</td>\n",
              "      <td>None</td>\n",
              "      <td>our deeds are the reason of this earthquake ma...</td>\n",
              "      <td>1</td>\n",
              "    </tr>\n",
              "    <tr>\n",
              "      <th>1</th>\n",
              "      <td>4</td>\n",
              "      <td>None</td>\n",
              "      <td>None</td>\n",
              "      <td>forest fire near la ronge sask canada</td>\n",
              "      <td>1</td>\n",
              "    </tr>\n",
              "    <tr>\n",
              "      <th>2</th>\n",
              "      <td>5</td>\n",
              "      <td>None</td>\n",
              "      <td>None</td>\n",
              "      <td>all residents asked to shelter in place are be...</td>\n",
              "      <td>1</td>\n",
              "    </tr>\n",
              "    <tr>\n",
              "      <th>3</th>\n",
              "      <td>6</td>\n",
              "      <td>None</td>\n",
              "      <td>None</td>\n",
              "      <td>people receive wildfires evacuation orders in ...</td>\n",
              "      <td>1</td>\n",
              "    </tr>\n",
              "    <tr>\n",
              "      <th>4</th>\n",
              "      <td>7</td>\n",
              "      <td>None</td>\n",
              "      <td>None</td>\n",
              "      <td>just got sent this photo from ruby alaska as s...</td>\n",
              "      <td>1</td>\n",
              "    </tr>\n",
              "    <tr>\n",
              "      <th>5</th>\n",
              "      <td>8</td>\n",
              "      <td>None</td>\n",
              "      <td>None</td>\n",
              "      <td>rockyfire update california hwy closed in both...</td>\n",
              "      <td>1</td>\n",
              "    </tr>\n",
              "    <tr>\n",
              "      <th>6</th>\n",
              "      <td>10</td>\n",
              "      <td>None</td>\n",
              "      <td>None</td>\n",
              "      <td>flood disaster heavy rain causes flash floodin...</td>\n",
              "      <td>1</td>\n",
              "    </tr>\n",
              "    <tr>\n",
              "      <th>7</th>\n",
              "      <td>13</td>\n",
              "      <td>None</td>\n",
              "      <td>None</td>\n",
              "      <td>i am on top of the hill and i can see a fire i...</td>\n",
              "      <td>1</td>\n",
              "    </tr>\n",
              "    <tr>\n",
              "      <th>8</th>\n",
              "      <td>14</td>\n",
              "      <td>None</td>\n",
              "      <td>None</td>\n",
              "      <td>there is an emergency evacuation happening now...</td>\n",
              "      <td>1</td>\n",
              "    </tr>\n",
              "    <tr>\n",
              "      <th>9</th>\n",
              "      <td>15</td>\n",
              "      <td>None</td>\n",
              "      <td>None</td>\n",
              "      <td>i am afraid that the tornado is coming to our ...</td>\n",
              "      <td>1</td>\n",
              "    </tr>\n",
              "    <tr>\n",
              "      <th>10</th>\n",
              "      <td>16</td>\n",
              "      <td>None</td>\n",
              "      <td>None</td>\n",
              "      <td>three people died from the heat wave so far</td>\n",
              "      <td>1</td>\n",
              "    </tr>\n",
              "    <tr>\n",
              "      <th>11</th>\n",
              "      <td>17</td>\n",
              "      <td>None</td>\n",
              "      <td>None</td>\n",
              "      <td>haha south tampa is getting flooded hah wait a...</td>\n",
              "      <td>1</td>\n",
              "    </tr>\n",
              "    <tr>\n",
              "      <th>12</th>\n",
              "      <td>18</td>\n",
              "      <td>None</td>\n",
              "      <td>None</td>\n",
              "      <td>raining flooding florida tampabay tampa or day...</td>\n",
              "      <td>1</td>\n",
              "    </tr>\n",
              "    <tr>\n",
              "      <th>13</th>\n",
              "      <td>19</td>\n",
              "      <td>None</td>\n",
              "      <td>None</td>\n",
              "      <td>flood in bago myanmar we arrived bago</td>\n",
              "      <td>1</td>\n",
              "    </tr>\n",
              "    <tr>\n",
              "      <th>14</th>\n",
              "      <td>20</td>\n",
              "      <td>None</td>\n",
              "      <td>None</td>\n",
              "      <td>damage to school bus on in multi car crash bre...</td>\n",
              "      <td>1</td>\n",
              "    </tr>\n",
              "  </tbody>\n",
              "</table>\n",
              "</div>"
            ],
            "text/plain": [
              "    id keyword  ...                                               text target\n",
              "0    1    None  ...  our deeds are the reason of this earthquake ma...      1\n",
              "1    4    None  ...              forest fire near la ronge sask canada      1\n",
              "2    5    None  ...  all residents asked to shelter in place are be...      1\n",
              "3    6    None  ...  people receive wildfires evacuation orders in ...      1\n",
              "4    7    None  ...  just got sent this photo from ruby alaska as s...      1\n",
              "5    8    None  ...  rockyfire update california hwy closed in both...      1\n",
              "6   10    None  ...  flood disaster heavy rain causes flash floodin...      1\n",
              "7   13    None  ...  i am on top of the hill and i can see a fire i...      1\n",
              "8   14    None  ...  there is an emergency evacuation happening now...      1\n",
              "9   15    None  ...  i am afraid that the tornado is coming to our ...      1\n",
              "10  16    None  ...        three people died from the heat wave so far      1\n",
              "11  17    None  ...  haha south tampa is getting flooded hah wait a...      1\n",
              "12  18    None  ...  raining flooding florida tampabay tampa or day...      1\n",
              "13  19    None  ...              flood in bago myanmar we arrived bago      1\n",
              "14  20    None  ...  damage to school bus on in multi car crash bre...      1\n",
              "\n",
              "[15 rows x 5 columns]"
            ]
          },
          "metadata": {
            "tags": []
          },
          "execution_count": 23
        }
      ]
    },
    {
      "cell_type": "code",
      "metadata": {
        "colab": {
          "base_uri": "https://localhost:8080/",
          "height": 333
        },
        "id": "J-5VC_wvI9ur",
        "outputId": "8392070f-eea5-40a6-a9dd-da170ef77d07"
      },
      "source": [
        "sns.countplot(cleaned_data['target'])\r\n",
        "plt.show();"
      ],
      "execution_count": null,
      "outputs": [
        {
          "output_type": "stream",
          "text": [
            "/usr/local/lib/python3.6/dist-packages/seaborn/_decorators.py:43: FutureWarning: Pass the following variable as a keyword arg: x. From version 0.12, the only valid positional argument will be `data`, and passing other arguments without an explicit keyword will result in an error or misinterpretation.\n",
            "  FutureWarning\n"
          ],
          "name": "stderr"
        },
        {
          "output_type": "display_data",
          "data": {
            "image/png": "[encoded data removed]",
            "text/plain": [
              "<Figure size 432x288 with 1 Axes>"
            ]
          },
          "metadata": {
            "tags": [],
            "needs_background": "light"
          }
        }
      ]
    },
    {
      "cell_type": "code",
      "metadata": {
        "id": "B1bTtTnqJieN"
      },
      "source": [
        "from sklearn.naive_bayes import MultinomialNB"
      ],
      "execution_count": null,
      "outputs": []
    },
    {
      "cell_type": "code",
      "metadata": {
        "colab": {
          "base_uri": "https://localhost:8080/"
        },
        "id": "tJGaYCAPvjzl",
        "outputId": "9a7e6ccf-6951-45d1-cff5-7a43ff5ba8bb"
      },
      "source": [
        "#removing stopwords\r\n",
        "from sklearn.feature_extraction import stop_words\r\n",
        "import string\r\n",
        "\r\n",
        "stop_words = stop_words.ENGLISH_STOP_WORDS\r\n",
        "\r\n",
        "\r\n",
        "def remove_stopwords(doc):\r\n",
        "    doc = \" \".join([token for token in doc.split()if token not in stop_words])\r\n",
        "    return doc.lower()"
      ],
      "execution_count": null,
      "outputs": [
        {
          "output_type": "stream",
          "text": [
            "/usr/local/lib/python3.6/dist-packages/sklearn/utils/deprecation.py:144: FutureWarning: The sklearn.feature_extraction.stop_words module is  deprecated in version 0.22 and will be removed in version 0.24. The corresponding classes / functions should instead be imported from sklearn.feature_extraction.text. Anything that cannot be imported from sklearn.feature_extraction.text is now part of the private API.\n",
            "  warnings.warn(message, FutureWarning)\n"
          ],
          "name": "stderr"
        }
      ]
    },
    {
      "cell_type": "code",
      "metadata": {
        "colab": {
          "base_uri": "https://localhost:8080/"
        },
        "id": "-u5LWuEWc7rw",
        "outputId": "9f4de675-c6c9-4c2a-e3eb-eb68585e6e75"
      },
      "source": [
        "from sklearn.feature_extraction.text import TfidfVectorizer\r\n",
        "\r\n",
        "vec_text = TfidfVectorizer(min_df = 10, ngram_range = (1,2), stop_words='english') \r\n",
        "text_vec = vec_text.fit_transform(cleaned_data['text'])\r\n",
        "text_vec_test = vec_text.transform(cleaned_test_data['text'])\r\n",
        "X_train_text = pd.DataFrame(text_vec.toarray(), columns=vec_text.get_feature_names())\r\n",
        "X_test_text = pd.DataFrame(text_vec_test.toarray(), columns=vec_text.get_feature_names())\r\n",
        "print (X_train_text.shape)"
      ],
      "execution_count": null,
      "outputs": [
        {
          "output_type": "stream",
          "text": [
            "(7613, 1690)\n"
          ],
          "name": "stdout"
        }
      ]
    },
    {
      "cell_type": "code",
      "metadata": {
        "id": "6Wvm5p0XXuQe"
      },
      "source": [
        "from sklearn.model_selection import train_test_split\r\n",
        "x = X_train_text\r\n",
        "y = cleaned_data['target']\r\n",
        "\r\n",
        "x_train, x_test, y_train, y_test = train_test_split(x, y, test_size=0.2)"
      ],
      "execution_count": null,
      "outputs": []
    },
    {
      "cell_type": "code",
      "metadata": {
        "colab": {
          "base_uri": "https://localhost:8080/"
        },
        "id": "nMBxQirKeaG4",
        "outputId": "a372ecb8-6847-4961-ae45-5fa465e8db97"
      },
      "source": [
        "x_train.shape"
      ],
      "execution_count": null,
      "outputs": [
        {
          "output_type": "execute_result",
          "data": {
            "text/plain": [
              "(6090, 1690)"
            ]
          },
          "metadata": {
            "tags": []
          },
          "execution_count": 80
        }
      ]
    },
    {
      "cell_type": "code",
      "metadata": {
        "colab": {
          "base_uri": "https://localhost:8080/"
        },
        "id": "2LnvgRbZedKy",
        "outputId": "18ccd21a-bd47-4e0c-8be6-0bc8751d1afd"
      },
      "source": [
        "y_train.shape"
      ],
      "execution_count": null,
      "outputs": [
        {
          "output_type": "execute_result",
          "data": {
            "text/plain": [
              "(6090,)"
            ]
          },
          "metadata": {
            "tags": []
          },
          "execution_count": 81
        }
      ]
    },
    {
      "cell_type": "code",
      "metadata": {
        "id": "6EL7AiJGefuT"
      },
      "source": [
        "nb = MultinomialNB()\r\n",
        "model = nb.fit(x_train, y_train)"
      ],
      "execution_count": null,
      "outputs": []
    },
    {
      "cell_type": "code",
      "metadata": {
        "id": "MKlV-m6genSl"
      },
      "source": [
        "prediction  = model.predict(x_test)"
      ],
      "execution_count": null,
      "outputs": []
    },
    {
      "cell_type": "code",
      "metadata": {
        "id": "x5i74lRXe5bT"
      },
      "source": [
        "from sklearn.model_selection import cross_val_score\r\n",
        "accuracy = cross_val_score(model, x_test, y_test, cv=10).mean()"
      ],
      "execution_count": null,
      "outputs": []
    },
    {
      "cell_type": "code",
      "metadata": {
        "colab": {
          "base_uri": "https://localhost:8080/"
        },
        "id": "dnkqYZrGfjSI",
        "outputId": "9f44f6a1-f0ee-4986-a3be-6b3fc4ece149"
      },
      "source": [
        "print(accuracy)"
      ],
      "execution_count": null,
      "outputs": [
        {
          "output_type": "stream",
          "text": [
            "0.7596706226350188\n"
          ],
          "name": "stdout"
        }
      ]
    },
    {
      "cell_type": "code",
      "metadata": {
        "id": "tXXKrPF0f3uu"
      },
      "source": [
        "from sklearn.metrics import f1_score\r\n",
        "f1_score = f1_score(y_test, prediction)"
      ],
      "execution_count": null,
      "outputs": []
    },
    {
      "cell_type": "code",
      "metadata": {
        "colab": {
          "base_uri": "https://localhost:8080/"
        },
        "id": "CxrF2Y10iC9U",
        "outputId": "fb37273f-40f7-4785-e616-4ac23287f4d5"
      },
      "source": [
        "f1_score"
      ],
      "execution_count": null,
      "outputs": [
        {
          "output_type": "execute_result",
          "data": {
            "text/plain": [
              "0.7283842794759825"
            ]
          },
          "metadata": {
            "tags": []
          },
          "execution_count": 90
        }
      ]
    },
    {
      "cell_type": "code",
      "metadata": {
        "colab": {
          "base_uri": "https://localhost:8080/"
        },
        "id": "Tq54MxjZiE-T",
        "outputId": "83d9f98b-b0a5-4d12-e54c-e5a8e899221f"
      },
      "source": [
        "from sklearn.linear_model import LogisticRegression\r\n",
        "reg = LogisticRegression()\r\n",
        "reg.fit(x_train, y_train)"
      ],
      "execution_count": null,
      "outputs": [
        {
          "output_type": "execute_result",
          "data": {
            "text/plain": [
              "LogisticRegression(C=1.0, class_weight=None, dual=False, fit_intercept=True,\n",
              "                   intercept_scaling=1, l1_ratio=None, max_iter=100,\n",
              "                   multi_class='auto', n_jobs=None, penalty='l2',\n",
              "                   random_state=None, solver='lbfgs', tol=0.0001, verbose=0,\n",
              "                   warm_start=False)"
            ]
          },
          "metadata": {
            "tags": []
          },
          "execution_count": 91
        }
      ]
    },
    {
      "cell_type": "code",
      "metadata": {
        "id": "yU6FEL0hi5M1"
      },
      "source": [
        "predict_reg  = reg.predict(x_test)"
      ],
      "execution_count": null,
      "outputs": []
    },
    {
      "cell_type": "code",
      "metadata": {
        "colab": {
          "base_uri": "https://localhost:8080/"
        },
        "id": "AKJA6E0GjQhx",
        "outputId": "81dd11dd-e089-472b-8091-9dee1e9bde6c"
      },
      "source": [
        "predict_reg"
      ],
      "execution_count": null,
      "outputs": [
        {
          "output_type": "execute_result",
          "data": {
            "text/plain": [
              "array([1, 1, 0, ..., 1, 0, 1])"
            ]
          },
          "metadata": {
            "tags": []
          },
          "execution_count": 118
        }
      ]
    },
    {
      "cell_type": "code",
      "metadata": {
        "colab": {
          "base_uri": "https://localhost:8080/"
        },
        "id": "cEsqFG_7kHVz",
        "outputId": "52e76435-097d-4c23-c7cd-5289332ba9cb"
      },
      "source": [
        "prediction"
      ],
      "execution_count": null,
      "outputs": [
        {
          "output_type": "execute_result",
          "data": {
            "text/plain": [
              "array([0, 1, 0, ..., 1, 0, 0])"
            ]
          },
          "metadata": {
            "tags": []
          },
          "execution_count": 97
        }
      ]
    },
    {
      "cell_type": "code",
      "metadata": {
        "colab": {
          "base_uri": "https://localhost:8080/"
        },
        "id": "cHdZOe1clm59",
        "outputId": "487e5905-5a7a-48f3-a28c-c4976cb4593c"
      },
      "source": [
        "\r\n",
        "accuracy_reg = cross_val_score(reg, x_test, y_test, cv=10).mean()\r\n",
        "accuracy_reg"
      ],
      "execution_count": null,
      "outputs": [
        {
          "output_type": "execute_result",
          "data": {
            "text/plain": [
              "0.7498108015135879"
            ]
          },
          "metadata": {
            "tags": []
          },
          "execution_count": 109
        }
      ]
    },
    {
      "cell_type": "code",
      "metadata": {
        "id": "A6OxpB7Rl7zk"
      },
      "source": [
        "#prediction using naive bayes\r\n",
        "predict_submission = model.predict(X_test_text)"
      ],
      "execution_count": null,
      "outputs": []
    },
    {
      "cell_type": "code",
      "metadata": {
        "id": "TILODveRm_VW"
      },
      "source": [
        "submission = pd.DataFrame({'id':df_test['id'],'target': predict_submission })"
      ],
      "execution_count": null,
      "outputs": []
    },
    {
      "cell_type": "code",
      "metadata": {
        "id": "0J45LqoindtF"
      },
      "source": [
        "submission.to_csv('submissions-nlpforbeginners-naiveBayes.csv', index=False)"
      ],
      "execution_count": null,
      "outputs": []
    },
    {
      "cell_type": "code",
      "metadata": {
        "id": "mcPkiAVanxeq"
      },
      "source": [
        "submission_2 = pd.DataFrame({'id': df_test['id'], 'target': predict_submission_2 })"
      ],
      "execution_count": null,
      "outputs": []
    },
    {
      "cell_type": "code",
      "metadata": {
        "id": "3MTlaSGIpKc4"
      },
      "source": [
        "predict_submission_2 = reg.predict(X_test_text)"
      ],
      "execution_count": null,
      "outputs": []
    },
    {
      "cell_type": "code",
      "metadata": {
        "id": "3stqmecJpeQ7"
      },
      "source": [
        "submission_2.to_csv('submission-nlpbeginners-logreg.csv', index=False)"
      ],
      "execution_count": null,
      "outputs": []
    },
    {
      "cell_type": "code",
      "metadata": {
        "id": "ElKVEnGIp0-W"
      },
      "source": [
        ""
      ],
      "execution_count": null,
      "outputs": []
    }
  ]
}