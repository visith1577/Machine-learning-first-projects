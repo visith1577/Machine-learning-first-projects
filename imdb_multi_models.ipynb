{
  "nbformat": 4,
  "nbformat_minor": 0,
  "metadata": {
    "colab": {
      "name": "imdb_multi_models.ipynb",
      "provenance": [],
      "collapsed_sections": [],
      "authorship_tag": "ABX9TyPls4BjtSlKFAIiwA6Z22kI",
      "include_colab_link": true
    },
    "kernelspec": {
      "name": "python3",
      "display_name": "Python 3"
    },
    "accelerator": "GPU",
    "widgets": {
      "application/vnd.jupyter.widget-state+json": {
        "590fe00481b84144acf1fd2ced1635d5": {
          "model_module": "@jupyter-widgets/controls",
          "model_name": "HBoxModel",
          "state": {
            "_view_name": "HBoxView",
            "_dom_classes": [],
            "_model_name": "HBoxModel",
            "_view_module": "@jupyter-widgets/controls",
            "_model_module_version": "1.5.0",
            "_view_count": null,
            "_view_module_version": "1.5.0",
            "box_style": "",
            "layout": "IPY_MODEL_1659070472bd46ad8834c811a6aa63b2",
            "_model_module": "@jupyter-widgets/controls",
            "children": [
              "IPY_MODEL_f651a55e32bd4362b9f44a5bdf42eb78",
              "IPY_MODEL_d4018e74c0d74cc1a563e73d0fefcc8c"
            ]
          }
        },
        "1659070472bd46ad8834c811a6aa63b2": {
          "model_module": "@jupyter-widgets/base",
          "model_name": "LayoutModel",
          "state": {
            "_view_name": "LayoutView",
            "grid_template_rows": null,
            "right": null,
            "justify_content": null,
            "_view_module": "@jupyter-widgets/base",
            "overflow": null,
            "_model_module_version": "1.2.0",
            "_view_count": null,
            "flex_flow": null,
            "width": null,
            "min_width": null,
            "border": null,
            "align_items": null,
            "bottom": null,
            "_model_module": "@jupyter-widgets/base",
            "top": null,
            "grid_column": null,
            "overflow_y": null,
            "overflow_x": null,
            "grid_auto_flow": null,
            "grid_area": null,
            "grid_template_columns": null,
            "flex": null,
            "_model_name": "LayoutModel",
            "justify_items": null,
            "grid_row": null,
            "max_height": null,
            "align_content": null,
            "visibility": null,
            "align_self": null,
            "height": null,
            "min_height": null,
            "padding": null,
            "grid_auto_rows": null,
            "grid_gap": null,
            "max_width": null,
            "order": null,
            "_view_module_version": "1.2.0",
            "grid_template_areas": null,
            "object_position": null,
            "object_fit": null,
            "grid_auto_columns": null,
            "margin": null,
            "display": null,
            "left": null
          }
        },
        "f651a55e32bd4362b9f44a5bdf42eb78": {
          "model_module": "@jupyter-widgets/controls",
          "model_name": "FloatProgressModel",
          "state": {
            "_view_name": "ProgressView",
            "style": "IPY_MODEL_15cef10650ae4047b1baa58a660cbd15",
            "_dom_classes": [],
            "description": "Dl Completed...: 100%",
            "_model_name": "FloatProgressModel",
            "bar_style": "success",
            "max": 1,
            "_view_module": "@jupyter-widgets/controls",
            "_model_module_version": "1.5.0",
            "value": 1,
            "_view_count": null,
            "_view_module_version": "1.5.0",
            "orientation": "horizontal",
            "min": 0,
            "description_tooltip": null,
            "_model_module": "@jupyter-widgets/controls",
            "layout": "IPY_MODEL_9c4f7067f8ae41e7b640f01f62d2b0fd"
          }
        },
        "d4018e74c0d74cc1a563e73d0fefcc8c": {
          "model_module": "@jupyter-widgets/controls",
          "model_name": "HTMLModel",
          "state": {
            "_view_name": "HTMLView",
            "style": "IPY_MODEL_8fa0e2ac6af4424490521045d166155b",
            "_dom_classes": [],
            "description": "",
            "_model_name": "HTMLModel",
            "placeholder": "​",
            "_view_module": "@jupyter-widgets/controls",
            "_model_module_version": "1.5.0",
            "value": " 1/1 [00:02&lt;00:00,  2.14s/ url]",
            "_view_count": null,
            "_view_module_version": "1.5.0",
            "description_tooltip": null,
            "_model_module": "@jupyter-widgets/controls",
            "layout": "IPY_MODEL_31116549c1ad4039b2e122b693f62438"
          }
        },
        "15cef10650ae4047b1baa58a660cbd15": {
          "model_module": "@jupyter-widgets/controls",
          "model_name": "ProgressStyleModel",
          "state": {
            "_view_name": "StyleView",
            "_model_name": "ProgressStyleModel",
            "description_width": "initial",
            "_view_module": "@jupyter-widgets/base",
            "_model_module_version": "1.5.0",
            "_view_count": null,
            "_view_module_version": "1.2.0",
            "bar_color": null,
            "_model_module": "@jupyter-widgets/controls"
          }
        },
        "9c4f7067f8ae41e7b640f01f62d2b0fd": {
          "model_module": "@jupyter-widgets/base",
          "model_name": "LayoutModel",
          "state": {
            "_view_name": "LayoutView",
            "grid_template_rows": null,
            "right": null,
            "justify_content": null,
            "_view_module": "@jupyter-widgets/base",
            "overflow": null,
            "_model_module_version": "1.2.0",
            "_view_count": null,
            "flex_flow": null,
            "width": null,
            "min_width": null,
            "border": null,
            "align_items": null,
            "bottom": null,
            "_model_module": "@jupyter-widgets/base",
            "top": null,
            "grid_column": null,
            "overflow_y": null,
            "overflow_x": null,
            "grid_auto_flow": null,
            "grid_area": null,
            "grid_template_columns": null,
            "flex": null,
            "_model_name": "LayoutModel",
            "justify_items": null,
            "grid_row": null,
            "max_height": null,
            "align_content": null,
            "visibility": null,
            "align_self": null,
            "height": null,
            "min_height": null,
            "padding": null,
            "grid_auto_rows": null,
            "grid_gap": null,
            "max_width": null,
            "order": null,
            "_view_module_version": "1.2.0",
            "grid_template_areas": null,
            "object_position": null,
            "object_fit": null,
            "grid_auto_columns": null,
            "margin": null,
            "display": null,
            "left": null
          }
        },
        "8fa0e2ac6af4424490521045d166155b": {
          "model_module": "@jupyter-widgets/controls",
          "model_name": "DescriptionStyleModel",
          "state": {
            "_view_name": "StyleView",
            "_model_name": "DescriptionStyleModel",
            "description_width": "",
            "_view_module": "@jupyter-widgets/base",
            "_model_module_version": "1.5.0",
            "_view_count": null,
            "_view_module_version": "1.2.0",
            "_model_module": "@jupyter-widgets/controls"
          }
        },
        "31116549c1ad4039b2e122b693f62438": {
          "model_module": "@jupyter-widgets/base",
          "model_name": "LayoutModel",
          "state": {
            "_view_name": "LayoutView",
            "grid_template_rows": null,
            "right": null,
            "justify_content": null,
            "_view_module": "@jupyter-widgets/base",
            "overflow": null,
            "_model_module_version": "1.2.0",
            "_view_count": null,
            "flex_flow": null,
            "width": null,
            "min_width": null,
            "border": null,
            "align_items": null,
            "bottom": null,
            "_model_module": "@jupyter-widgets/base",
            "top": null,
            "grid_column": null,
            "overflow_y": null,
            "overflow_x": null,
            "grid_auto_flow": null,
            "grid_area": null,
            "grid_template_columns": null,
            "flex": null,
            "_model_name": "LayoutModel",
            "justify_items": null,
            "grid_row": null,
            "max_height": null,
            "align_content": null,
            "visibility": null,
            "align_self": null,
            "height": null,
            "min_height": null,
            "padding": null,
            "grid_auto_rows": null,
            "grid_gap": null,
            "max_width": null,
            "order": null,
            "_view_module_version": "1.2.0",
            "grid_template_areas": null,
            "object_position": null,
            "object_fit": null,
            "grid_auto_columns": null,
            "margin": null,
            "display": null,
            "left": null
          }
        },
        "1e279fec69294ed7b1160504971e24fe": {
          "model_module": "@jupyter-widgets/controls",
          "model_name": "HBoxModel",
          "state": {
            "_view_name": "HBoxView",
            "_dom_classes": [],
            "_model_name": "HBoxModel",
            "_view_module": "@jupyter-widgets/controls",
            "_model_module_version": "1.5.0",
            "_view_count": null,
            "_view_module_version": "1.5.0",
            "box_style": "",
            "layout": "IPY_MODEL_8601d5db907f41718abd6eb301fb5049",
            "_model_module": "@jupyter-widgets/controls",
            "children": [
              "IPY_MODEL_c7ffb42d3d6944d38cad11cbd0bfd1d9",
              "IPY_MODEL_0a39ee0c46f44b30b922bb5571f6d02c"
            ]
          }
        },
        "8601d5db907f41718abd6eb301fb5049": {
          "model_module": "@jupyter-widgets/base",
          "model_name": "LayoutModel",
          "state": {
            "_view_name": "LayoutView",
            "grid_template_rows": null,
            "right": null,
            "justify_content": null,
            "_view_module": "@jupyter-widgets/base",
            "overflow": null,
            "_model_module_version": "1.2.0",
            "_view_count": null,
            "flex_flow": null,
            "width": null,
            "min_width": null,
            "border": null,
            "align_items": null,
            "bottom": null,
            "_model_module": "@jupyter-widgets/base",
            "top": null,
            "grid_column": null,
            "overflow_y": null,
            "overflow_x": null,
            "grid_auto_flow": null,
            "grid_area": null,
            "grid_template_columns": null,
            "flex": null,
            "_model_name": "LayoutModel",
            "justify_items": null,
            "grid_row": null,
            "max_height": null,
            "align_content": null,
            "visibility": null,
            "align_self": null,
            "height": null,
            "min_height": null,
            "padding": null,
            "grid_auto_rows": null,
            "grid_gap": null,
            "max_width": null,
            "order": null,
            "_view_module_version": "1.2.0",
            "grid_template_areas": null,
            "object_position": null,
            "object_fit": null,
            "grid_auto_columns": null,
            "margin": null,
            "display": null,
            "left": null
          }
        },
        "c7ffb42d3d6944d38cad11cbd0bfd1d9": {
          "model_module": "@jupyter-widgets/controls",
          "model_name": "FloatProgressModel",
          "state": {
            "_view_name": "ProgressView",
            "style": "IPY_MODEL_e9fc9c943a6d4482898d03ad2660c87c",
            "_dom_classes": [],
            "description": "Dl Size...: 100%",
            "_model_name": "FloatProgressModel",
            "bar_style": "success",
            "max": 1,
            "_view_module": "@jupyter-widgets/controls",
            "_model_module_version": "1.5.0",
            "value": 1,
            "_view_count": null,
            "_view_module_version": "1.5.0",
            "orientation": "horizontal",
            "min": 0,
            "description_tooltip": null,
            "_model_module": "@jupyter-widgets/controls",
            "layout": "IPY_MODEL_d4f3e7708e2743eb94bc1c5378b1c713"
          }
        },
        "0a39ee0c46f44b30b922bb5571f6d02c": {
          "model_module": "@jupyter-widgets/controls",
          "model_name": "HTMLModel",
          "state": {
            "_view_name": "HTMLView",
            "style": "IPY_MODEL_a5fba557270047d1b2dad10cd5334ce3",
            "_dom_classes": [],
            "description": "",
            "_model_name": "HTMLModel",
            "placeholder": "​",
            "_view_module": "@jupyter-widgets/controls",
            "_model_module_version": "1.5.0",
            "value": " 80/80 [00:02&lt;00:00, 38.00 MiB/s]",
            "_view_count": null,
            "_view_module_version": "1.5.0",
            "description_tooltip": null,
            "_model_module": "@jupyter-widgets/controls",
            "layout": "IPY_MODEL_ea99936de6df4944a005b53932037c49"
          }
        },
        "e9fc9c943a6d4482898d03ad2660c87c": {
          "model_module": "@jupyter-widgets/controls",
          "model_name": "ProgressStyleModel",
          "state": {
            "_view_name": "StyleView",
            "_model_name": "ProgressStyleModel",
            "description_width": "initial",
            "_view_module": "@jupyter-widgets/base",
            "_model_module_version": "1.5.0",
            "_view_count": null,
            "_view_module_version": "1.2.0",
            "bar_color": null,
            "_model_module": "@jupyter-widgets/controls"
          }
        },
        "d4f3e7708e2743eb94bc1c5378b1c713": {
          "model_module": "@jupyter-widgets/base",
          "model_name": "LayoutModel",
          "state": {
            "_view_name": "LayoutView",
            "grid_template_rows": null,
            "right": null,
            "justify_content": null,
            "_view_module": "@jupyter-widgets/base",
            "overflow": null,
            "_model_module_version": "1.2.0",
            "_view_count": null,
            "flex_flow": null,
            "width": null,
            "min_width": null,
            "border": null,
            "align_items": null,
            "bottom": null,
            "_model_module": "@jupyter-widgets/base",
            "top": null,
            "grid_column": null,
            "overflow_y": null,
            "overflow_x": null,
            "grid_auto_flow": null,
            "grid_area": null,
            "grid_template_columns": null,
            "flex": null,
            "_model_name": "LayoutModel",
            "justify_items": null,
            "grid_row": null,
            "max_height": null,
            "align_content": null,
            "visibility": null,
            "align_self": null,
            "height": null,
            "min_height": null,
            "padding": null,
            "grid_auto_rows": null,
            "grid_gap": null,
            "max_width": null,
            "order": null,
            "_view_module_version": "1.2.0",
            "grid_template_areas": null,
            "object_position": null,
            "object_fit": null,
            "grid_auto_columns": null,
            "margin": null,
            "display": null,
            "left": null
          }
        },
        "a5fba557270047d1b2dad10cd5334ce3": {
          "model_module": "@jupyter-widgets/controls",
          "model_name": "DescriptionStyleModel",
          "state": {
            "_view_name": "StyleView",
            "_model_name": "DescriptionStyleModel",
            "description_width": "",
            "_view_module": "@jupyter-widgets/base",
            "_model_module_version": "1.5.0",
            "_view_count": null,
            "_view_module_version": "1.2.0",
            "_model_module": "@jupyter-widgets/controls"
          }
        },
        "ea99936de6df4944a005b53932037c49": {
          "model_module": "@jupyter-widgets/base",
          "model_name": "LayoutModel",
          "state": {
            "_view_name": "LayoutView",
            "grid_template_rows": null,
            "right": null,
            "justify_content": null,
            "_view_module": "@jupyter-widgets/base",
            "overflow": null,
            "_model_module_version": "1.2.0",
            "_view_count": null,
            "flex_flow": null,
            "width": null,
            "min_width": null,
            "border": null,
            "align_items": null,
            "bottom": null,
            "_model_module": "@jupyter-widgets/base",
            "top": null,
            "grid_column": null,
            "overflow_y": null,
            "overflow_x": null,
            "grid_auto_flow": null,
            "grid_area": null,
            "grid_template_columns": null,
            "flex": null,
            "_model_name": "LayoutModel",
            "justify_items": null,
            "grid_row": null,
            "max_height": null,
            "align_content": null,
            "visibility": null,
            "align_self": null,
            "height": null,
            "min_height": null,
            "padding": null,
            "grid_auto_rows": null,
            "grid_gap": null,
            "max_width": null,
            "order": null,
            "_view_module_version": "1.2.0",
            "grid_template_areas": null,
            "object_position": null,
            "object_fit": null,
            "grid_auto_columns": null,
            "margin": null,
            "display": null,
            "left": null
          }
        },
        "9205a0bdef7e46498c48713cc02376ec": {
          "model_module": "@jupyter-widgets/controls",
          "model_name": "HBoxModel",
          "state": {
            "_view_name": "HBoxView",
            "_dom_classes": [],
            "_model_name": "HBoxModel",
            "_view_module": "@jupyter-widgets/controls",
            "_model_module_version": "1.5.0",
            "_view_count": null,
            "_view_module_version": "1.5.0",
            "box_style": "",
            "layout": "IPY_MODEL_8a2470a17d28484ca2d0756f9e1ecf7d",
            "_model_module": "@jupyter-widgets/controls",
            "children": [
              "IPY_MODEL_d095f9a556014b309d8030fb3048c520",
              "IPY_MODEL_5146500276d547b0b8f37acdd13f6a8d"
            ]
          }
        },
        "8a2470a17d28484ca2d0756f9e1ecf7d": {
          "model_module": "@jupyter-widgets/base",
          "model_name": "LayoutModel",
          "state": {
            "_view_name": "LayoutView",
            "grid_template_rows": null,
            "right": null,
            "justify_content": null,
            "_view_module": "@jupyter-widgets/base",
            "overflow": null,
            "_model_module_version": "1.2.0",
            "_view_count": null,
            "flex_flow": null,
            "width": null,
            "min_width": null,
            "border": null,
            "align_items": null,
            "bottom": null,
            "_model_module": "@jupyter-widgets/base",
            "top": null,
            "grid_column": null,
            "overflow_y": null,
            "overflow_x": null,
            "grid_auto_flow": null,
            "grid_area": null,
            "grid_template_columns": null,
            "flex": null,
            "_model_name": "LayoutModel",
            "justify_items": null,
            "grid_row": null,
            "max_height": null,
            "align_content": null,
            "visibility": null,
            "align_self": null,
            "height": null,
            "min_height": null,
            "padding": null,
            "grid_auto_rows": null,
            "grid_gap": null,
            "max_width": null,
            "order": null,
            "_view_module_version": "1.2.0",
            "grid_template_areas": null,
            "object_position": null,
            "object_fit": null,
            "grid_auto_columns": null,
            "margin": null,
            "display": null,
            "left": null
          }
        },
        "d095f9a556014b309d8030fb3048c520": {
          "model_module": "@jupyter-widgets/controls",
          "model_name": "FloatProgressModel",
          "state": {
            "_view_name": "ProgressView",
            "style": "IPY_MODEL_c2b679690823402981a3fbfe455718ce",
            "_dom_classes": [],
            "description": "",
            "_model_name": "FloatProgressModel",
            "bar_style": "info",
            "max": 1,
            "_view_module": "@jupyter-widgets/controls",
            "_model_module_version": "1.5.0",
            "value": 1,
            "_view_count": null,
            "_view_module_version": "1.5.0",
            "orientation": "horizontal",
            "min": 0,
            "description_tooltip": null,
            "_model_module": "@jupyter-widgets/controls",
            "layout": "IPY_MODEL_7b9e8175f46b45dca4dd3cb21f17fd49"
          }
        },
        "5146500276d547b0b8f37acdd13f6a8d": {
          "model_module": "@jupyter-widgets/controls",
          "model_name": "HTMLModel",
          "state": {
            "_view_name": "HTMLView",
            "style": "IPY_MODEL_46b2e70205a94def96723f7ccdcdcef8",
            "_dom_classes": [],
            "description": "",
            "_model_name": "HTMLModel",
            "placeholder": "​",
            "_view_module": "@jupyter-widgets/controls",
            "_model_module_version": "1.5.0",
            "value": " 25000/0 [00:11&lt;00:00, 3703.02 examples/s]",
            "_view_count": null,
            "_view_module_version": "1.5.0",
            "description_tooltip": null,
            "_model_module": "@jupyter-widgets/controls",
            "layout": "IPY_MODEL_c6fc02d7131e4fe788b7e1651341856b"
          }
        },
        "c2b679690823402981a3fbfe455718ce": {
          "model_module": "@jupyter-widgets/controls",
          "model_name": "ProgressStyleModel",
          "state": {
            "_view_name": "StyleView",
            "_model_name": "ProgressStyleModel",
            "description_width": "initial",
            "_view_module": "@jupyter-widgets/base",
            "_model_module_version": "1.5.0",
            "_view_count": null,
            "_view_module_version": "1.2.0",
            "bar_color": null,
            "_model_module": "@jupyter-widgets/controls"
          }
        },
        "7b9e8175f46b45dca4dd3cb21f17fd49": {
          "model_module": "@jupyter-widgets/base",
          "model_name": "LayoutModel",
          "state": {
            "_view_name": "LayoutView",
            "grid_template_rows": null,
            "right": null,
            "justify_content": null,
            "_view_module": "@jupyter-widgets/base",
            "overflow": null,
            "_model_module_version": "1.2.0",
            "_view_count": null,
            "flex_flow": null,
            "width": null,
            "min_width": null,
            "border": null,
            "align_items": null,
            "bottom": null,
            "_model_module": "@jupyter-widgets/base",
            "top": null,
            "grid_column": null,
            "overflow_y": null,
            "overflow_x": null,
            "grid_auto_flow": null,
            "grid_area": null,
            "grid_template_columns": null,
            "flex": null,
            "_model_name": "LayoutModel",
            "justify_items": null,
            "grid_row": null,
            "max_height": null,
            "align_content": null,
            "visibility": null,
            "align_self": null,
            "height": null,
            "min_height": null,
            "padding": null,
            "grid_auto_rows": null,
            "grid_gap": null,
            "max_width": null,
            "order": null,
            "_view_module_version": "1.2.0",
            "grid_template_areas": null,
            "object_position": null,
            "object_fit": null,
            "grid_auto_columns": null,
            "margin": null,
            "display": null,
            "left": null
          }
        },
        "46b2e70205a94def96723f7ccdcdcef8": {
          "model_module": "@jupyter-widgets/controls",
          "model_name": "DescriptionStyleModel",
          "state": {
            "_view_name": "StyleView",
            "_model_name": "DescriptionStyleModel",
            "description_width": "",
            "_view_module": "@jupyter-widgets/base",
            "_model_module_version": "1.5.0",
            "_view_count": null,
            "_view_module_version": "1.2.0",
            "_model_module": "@jupyter-widgets/controls"
          }
        },
        "c6fc02d7131e4fe788b7e1651341856b": {
          "model_module": "@jupyter-widgets/base",
          "model_name": "LayoutModel",
          "state": {
            "_view_name": "LayoutView",
            "grid_template_rows": null,
            "right": null,
            "justify_content": null,
            "_view_module": "@jupyter-widgets/base",
            "overflow": null,
            "_model_module_version": "1.2.0",
            "_view_count": null,
            "flex_flow": null,
            "width": null,
            "min_width": null,
            "border": null,
            "align_items": null,
            "bottom": null,
            "_model_module": "@jupyter-widgets/base",
            "top": null,
            "grid_column": null,
            "overflow_y": null,
            "overflow_x": null,
            "grid_auto_flow": null,
            "grid_area": null,
            "grid_template_columns": null,
            "flex": null,
            "_model_name": "LayoutModel",
            "justify_items": null,
            "grid_row": null,
            "max_height": null,
            "align_content": null,
            "visibility": null,
            "align_self": null,
            "height": null,
            "min_height": null,
            "padding": null,
            "grid_auto_rows": null,
            "grid_gap": null,
            "max_width": null,
            "order": null,
            "_view_module_version": "1.2.0",
            "grid_template_areas": null,
            "object_position": null,
            "object_fit": null,
            "grid_auto_columns": null,
            "margin": null,
            "display": null,
            "left": null
          }
        },
        "92005b293a1b40a1b707ee585be8450b": {
          "model_module": "@jupyter-widgets/controls",
          "model_name": "HBoxModel",
          "state": {
            "_view_name": "HBoxView",
            "_dom_classes": [],
            "_model_name": "HBoxModel",
            "_view_module": "@jupyter-widgets/controls",
            "_model_module_version": "1.5.0",
            "_view_count": null,
            "_view_module_version": "1.5.0",
            "box_style": "",
            "layout": "IPY_MODEL_a9774bbbc4d34f27b53012b0319d2987",
            "_model_module": "@jupyter-widgets/controls",
            "children": [
              "IPY_MODEL_40319eeade9642c58dd0849fcc0ff305",
              "IPY_MODEL_b39b3797762c4f41aeb9217218718f86"
            ]
          }
        },
        "a9774bbbc4d34f27b53012b0319d2987": {
          "model_module": "@jupyter-widgets/base",
          "model_name": "LayoutModel",
          "state": {
            "_view_name": "LayoutView",
            "grid_template_rows": null,
            "right": null,
            "justify_content": null,
            "_view_module": "@jupyter-widgets/base",
            "overflow": null,
            "_model_module_version": "1.2.0",
            "_view_count": null,
            "flex_flow": null,
            "width": null,
            "min_width": null,
            "border": null,
            "align_items": null,
            "bottom": null,
            "_model_module": "@jupyter-widgets/base",
            "top": null,
            "grid_column": null,
            "overflow_y": null,
            "overflow_x": null,
            "grid_auto_flow": null,
            "grid_area": null,
            "grid_template_columns": null,
            "flex": null,
            "_model_name": "LayoutModel",
            "justify_items": null,
            "grid_row": null,
            "max_height": null,
            "align_content": null,
            "visibility": null,
            "align_self": null,
            "height": null,
            "min_height": null,
            "padding": null,
            "grid_auto_rows": null,
            "grid_gap": null,
            "max_width": null,
            "order": null,
            "_view_module_version": "1.2.0",
            "grid_template_areas": null,
            "object_position": null,
            "object_fit": null,
            "grid_auto_columns": null,
            "margin": null,
            "display": null,
            "left": null
          }
        },
        "40319eeade9642c58dd0849fcc0ff305": {
          "model_module": "@jupyter-widgets/controls",
          "model_name": "FloatProgressModel",
          "state": {
            "_view_name": "ProgressView",
            "style": "IPY_MODEL_151724f9f7f74c2f9b1cfd144434fad2",
            "_dom_classes": [],
            "description": " 39%",
            "_model_name": "FloatProgressModel",
            "bar_style": "danger",
            "max": 25000,
            "_view_module": "@jupyter-widgets/controls",
            "_model_module_version": "1.5.0",
            "value": 9857,
            "_view_count": null,
            "_view_module_version": "1.5.0",
            "orientation": "horizontal",
            "min": 0,
            "description_tooltip": null,
            "_model_module": "@jupyter-widgets/controls",
            "layout": "IPY_MODEL_443b5059984042e1b7a8241fc8f78d78"
          }
        },
        "b39b3797762c4f41aeb9217218718f86": {
          "model_module": "@jupyter-widgets/controls",
          "model_name": "HTMLModel",
          "state": {
            "_view_name": "HTMLView",
            "style": "IPY_MODEL_012a3d4188ff47fd9c904ebe9caf7c6b",
            "_dom_classes": [],
            "description": "",
            "_model_name": "HTMLModel",
            "placeholder": "​",
            "_view_module": "@jupyter-widgets/controls",
            "_model_module_version": "1.5.0",
            "value": " 9857/25000 [00:00&lt;00:00, 98564.22 examples/s]",
            "_view_count": null,
            "_view_module_version": "1.5.0",
            "description_tooltip": null,
            "_model_module": "@jupyter-widgets/controls",
            "layout": "IPY_MODEL_9596dee193ec4306b8de898ba600d2e6"
          }
        },
        "151724f9f7f74c2f9b1cfd144434fad2": {
          "model_module": "@jupyter-widgets/controls",
          "model_name": "ProgressStyleModel",
          "state": {
            "_view_name": "StyleView",
            "_model_name": "ProgressStyleModel",
            "description_width": "initial",
            "_view_module": "@jupyter-widgets/base",
            "_model_module_version": "1.5.0",
            "_view_count": null,
            "_view_module_version": "1.2.0",
            "bar_color": null,
            "_model_module": "@jupyter-widgets/controls"
          }
        },
        "443b5059984042e1b7a8241fc8f78d78": {
          "model_module": "@jupyter-widgets/base",
          "model_name": "LayoutModel",
          "state": {
            "_view_name": "LayoutView",
            "grid_template_rows": null,
            "right": null,
            "justify_content": null,
            "_view_module": "@jupyter-widgets/base",
            "overflow": null,
            "_model_module_version": "1.2.0",
            "_view_count": null,
            "flex_flow": null,
            "width": null,
            "min_width": null,
            "border": null,
            "align_items": null,
            "bottom": null,
            "_model_module": "@jupyter-widgets/base",
            "top": null,
            "grid_column": null,
            "overflow_y": null,
            "overflow_x": null,
            "grid_auto_flow": null,
            "grid_area": null,
            "grid_template_columns": null,
            "flex": null,
            "_model_name": "LayoutModel",
            "justify_items": null,
            "grid_row": null,
            "max_height": null,
            "align_content": null,
            "visibility": null,
            "align_self": null,
            "height": null,
            "min_height": null,
            "padding": null,
            "grid_auto_rows": null,
            "grid_gap": null,
            "max_width": null,
            "order": null,
            "_view_module_version": "1.2.0",
            "grid_template_areas": null,
            "object_position": null,
            "object_fit": null,
            "grid_auto_columns": null,
            "margin": null,
            "display": null,
            "left": null
          }
        },
        "012a3d4188ff47fd9c904ebe9caf7c6b": {
          "model_module": "@jupyter-widgets/controls",
          "model_name": "DescriptionStyleModel",
          "state": {
            "_view_name": "StyleView",
            "_model_name": "DescriptionStyleModel",
            "description_width": "",
            "_view_module": "@jupyter-widgets/base",
            "_model_module_version": "1.5.0",
            "_view_count": null,
            "_view_module_version": "1.2.0",
            "_model_module": "@jupyter-widgets/controls"
          }
        },
        "9596dee193ec4306b8de898ba600d2e6": {
          "model_module": "@jupyter-widgets/base",
          "model_name": "LayoutModel",
          "state": {
            "_view_name": "LayoutView",
            "grid_template_rows": null,
            "right": null,
            "justify_content": null,
            "_view_module": "@jupyter-widgets/base",
            "overflow": null,
            "_model_module_version": "1.2.0",
            "_view_count": null,
            "flex_flow": null,
            "width": null,
            "min_width": null,
            "border": null,
            "align_items": null,
            "bottom": null,
            "_model_module": "@jupyter-widgets/base",
            "top": null,
            "grid_column": null,
            "overflow_y": null,
            "overflow_x": null,
            "grid_auto_flow": null,
            "grid_area": null,
            "grid_template_columns": null,
            "flex": null,
            "_model_name": "LayoutModel",
            "justify_items": null,
            "grid_row": null,
            "max_height": null,
            "align_content": null,
            "visibility": null,
            "align_self": null,
            "height": null,
            "min_height": null,
            "padding": null,
            "grid_auto_rows": null,
            "grid_gap": null,
            "max_width": null,
            "order": null,
            "_view_module_version": "1.2.0",
            "grid_template_areas": null,
            "object_position": null,
            "object_fit": null,
            "grid_auto_columns": null,
            "margin": null,
            "display": null,
            "left": null
          }
        },
        "9408876831484c6caf1c058091fee162": {
          "model_module": "@jupyter-widgets/controls",
          "model_name": "HBoxModel",
          "state": {
            "_view_name": "HBoxView",
            "_dom_classes": [],
            "_model_name": "HBoxModel",
            "_view_module": "@jupyter-widgets/controls",
            "_model_module_version": "1.5.0",
            "_view_count": null,
            "_view_module_version": "1.5.0",
            "box_style": "",
            "layout": "IPY_MODEL_485e24d5d6d741968705f29a94a353b7",
            "_model_module": "@jupyter-widgets/controls",
            "children": [
              "IPY_MODEL_22f8d0c1fd3e427fb957ab45061790f6",
              "IPY_MODEL_1906d6fa951e459bb0078c0120ae94d2"
            ]
          }
        },
        "485e24d5d6d741968705f29a94a353b7": {
          "model_module": "@jupyter-widgets/base",
          "model_name": "LayoutModel",
          "state": {
            "_view_name": "LayoutView",
            "grid_template_rows": null,
            "right": null,
            "justify_content": null,
            "_view_module": "@jupyter-widgets/base",
            "overflow": null,
            "_model_module_version": "1.2.0",
            "_view_count": null,
            "flex_flow": null,
            "width": null,
            "min_width": null,
            "border": null,
            "align_items": null,
            "bottom": null,
            "_model_module": "@jupyter-widgets/base",
            "top": null,
            "grid_column": null,
            "overflow_y": null,
            "overflow_x": null,
            "grid_auto_flow": null,
            "grid_area": null,
            "grid_template_columns": null,
            "flex": null,
            "_model_name": "LayoutModel",
            "justify_items": null,
            "grid_row": null,
            "max_height": null,
            "align_content": null,
            "visibility": null,
            "align_self": null,
            "height": null,
            "min_height": null,
            "padding": null,
            "grid_auto_rows": null,
            "grid_gap": null,
            "max_width": null,
            "order": null,
            "_view_module_version": "1.2.0",
            "grid_template_areas": null,
            "object_position": null,
            "object_fit": null,
            "grid_auto_columns": null,
            "margin": null,
            "display": null,
            "left": null
          }
        },
        "22f8d0c1fd3e427fb957ab45061790f6": {
          "model_module": "@jupyter-widgets/controls",
          "model_name": "FloatProgressModel",
          "state": {
            "_view_name": "ProgressView",
            "style": "IPY_MODEL_25fa572040014cc9a96dbe2658f69598",
            "_dom_classes": [],
            "description": "",
            "_model_name": "FloatProgressModel",
            "bar_style": "info",
            "max": 1,
            "_view_module": "@jupyter-widgets/controls",
            "_model_module_version": "1.5.0",
            "value": 1,
            "_view_count": null,
            "_view_module_version": "1.5.0",
            "orientation": "horizontal",
            "min": 0,
            "description_tooltip": null,
            "_model_module": "@jupyter-widgets/controls",
            "layout": "IPY_MODEL_1db02bd94ceb4708a384860d2c7a3ff6"
          }
        },
        "1906d6fa951e459bb0078c0120ae94d2": {
          "model_module": "@jupyter-widgets/controls",
          "model_name": "HTMLModel",
          "state": {
            "_view_name": "HTMLView",
            "style": "IPY_MODEL_6737a31342824ebaa918e421c5aa0595",
            "_dom_classes": [],
            "description": "",
            "_model_name": "HTMLModel",
            "placeholder": "​",
            "_view_module": "@jupyter-widgets/controls",
            "_model_module_version": "1.5.0",
            "value": " 25000/0 [00:11&lt;00:00, 3733.68 examples/s]",
            "_view_count": null,
            "_view_module_version": "1.5.0",
            "description_tooltip": null,
            "_model_module": "@jupyter-widgets/controls",
            "layout": "IPY_MODEL_d326048685614888931ba6c435e8026c"
          }
        },
        "25fa572040014cc9a96dbe2658f69598": {
          "model_module": "@jupyter-widgets/controls",
          "model_name": "ProgressStyleModel",
          "state": {
            "_view_name": "StyleView",
            "_model_name": "ProgressStyleModel",
            "description_width": "initial",
            "_view_module": "@jupyter-widgets/base",
            "_model_module_version": "1.5.0",
            "_view_count": null,
            "_view_module_version": "1.2.0",
            "bar_color": null,
            "_model_module": "@jupyter-widgets/controls"
          }
        },
        "1db02bd94ceb4708a384860d2c7a3ff6": {
          "model_module": "@jupyter-widgets/base",
          "model_name": "LayoutModel",
          "state": {
            "_view_name": "LayoutView",
            "grid_template_rows": null,
            "right": null,
            "justify_content": null,
            "_view_module": "@jupyter-widgets/base",
            "overflow": null,
            "_model_module_version": "1.2.0",
            "_view_count": null,
            "flex_flow": null,
            "width": null,
            "min_width": null,
            "border": null,
            "align_items": null,
            "bottom": null,
            "_model_module": "@jupyter-widgets/base",
            "top": null,
            "grid_column": null,
            "overflow_y": null,
            "overflow_x": null,
            "grid_auto_flow": null,
            "grid_area": null,
            "grid_template_columns": null,
            "flex": null,
            "_model_name": "LayoutModel",
            "justify_items": null,
            "grid_row": null,
            "max_height": null,
            "align_content": null,
            "visibility": null,
            "align_self": null,
            "height": null,
            "min_height": null,
            "padding": null,
            "grid_auto_rows": null,
            "grid_gap": null,
            "max_width": null,
            "order": null,
            "_view_module_version": "1.2.0",
            "grid_template_areas": null,
            "object_position": null,
            "object_fit": null,
            "grid_auto_columns": null,
            "margin": null,
            "display": null,
            "left": null
          }
        },
        "6737a31342824ebaa918e421c5aa0595": {
          "model_module": "@jupyter-widgets/controls",
          "model_name": "DescriptionStyleModel",
          "state": {
            "_view_name": "StyleView",
            "_model_name": "DescriptionStyleModel",
            "description_width": "",
            "_view_module": "@jupyter-widgets/base",
            "_model_module_version": "1.5.0",
            "_view_count": null,
            "_view_module_version": "1.2.0",
            "_model_module": "@jupyter-widgets/controls"
          }
        },
        "d326048685614888931ba6c435e8026c": {
          "model_module": "@jupyter-widgets/base",
          "model_name": "LayoutModel",
          "state": {
            "_view_name": "LayoutView",
            "grid_template_rows": null,
            "right": null,
            "justify_content": null,
            "_view_module": "@jupyter-widgets/base",
            "overflow": null,
            "_model_module_version": "1.2.0",
            "_view_count": null,
            "flex_flow": null,
            "width": null,
            "min_width": null,
            "border": null,
            "align_items": null,
            "bottom": null,
            "_model_module": "@jupyter-widgets/base",
            "top": null,
            "grid_column": null,
            "overflow_y": null,
            "overflow_x": null,
            "grid_auto_flow": null,
            "grid_area": null,
            "grid_template_columns": null,
            "flex": null,
            "_model_name": "LayoutModel",
            "justify_items": null,
            "grid_row": null,
            "max_height": null,
            "align_content": null,
            "visibility": null,
            "align_self": null,
            "height": null,
            "min_height": null,
            "padding": null,
            "grid_auto_rows": null,
            "grid_gap": null,
            "max_width": null,
            "order": null,
            "_view_module_version": "1.2.0",
            "grid_template_areas": null,
            "object_position": null,
            "object_fit": null,
            "grid_auto_columns": null,
            "margin": null,
            "display": null,
            "left": null
          }
        },
        "9603efa9ba7c437bab9f79644ecc6ae8": {
          "model_module": "@jupyter-widgets/controls",
          "model_name": "HBoxModel",
          "state": {
            "_view_name": "HBoxView",
            "_dom_classes": [],
            "_model_name": "HBoxModel",
            "_view_module": "@jupyter-widgets/controls",
            "_model_module_version": "1.5.0",
            "_view_count": null,
            "_view_module_version": "1.5.0",
            "box_style": "",
            "layout": "IPY_MODEL_10b14c44ec2243f38f204f01e62725ec",
            "_model_module": "@jupyter-widgets/controls",
            "children": [
              "IPY_MODEL_60baf0c780e94050a4cb1a340c0d3954",
              "IPY_MODEL_edc476b0c11d47a5962c02e95c79d7ea"
            ]
          }
        },
        "10b14c44ec2243f38f204f01e62725ec": {
          "model_module": "@jupyter-widgets/base",
          "model_name": "LayoutModel",
          "state": {
            "_view_name": "LayoutView",
            "grid_template_rows": null,
            "right": null,
            "justify_content": null,
            "_view_module": "@jupyter-widgets/base",
            "overflow": null,
            "_model_module_version": "1.2.0",
            "_view_count": null,
            "flex_flow": null,
            "width": null,
            "min_width": null,
            "border": null,
            "align_items": null,
            "bottom": null,
            "_model_module": "@jupyter-widgets/base",
            "top": null,
            "grid_column": null,
            "overflow_y": null,
            "overflow_x": null,
            "grid_auto_flow": null,
            "grid_area": null,
            "grid_template_columns": null,
            "flex": null,
            "_model_name": "LayoutModel",
            "justify_items": null,
            "grid_row": null,
            "max_height": null,
            "align_content": null,
            "visibility": null,
            "align_self": null,
            "height": null,
            "min_height": null,
            "padding": null,
            "grid_auto_rows": null,
            "grid_gap": null,
            "max_width": null,
            "order": null,
            "_view_module_version": "1.2.0",
            "grid_template_areas": null,
            "object_position": null,
            "object_fit": null,
            "grid_auto_columns": null,
            "margin": null,
            "display": null,
            "left": null
          }
        },
        "60baf0c780e94050a4cb1a340c0d3954": {
          "model_module": "@jupyter-widgets/controls",
          "model_name": "FloatProgressModel",
          "state": {
            "_view_name": "ProgressView",
            "style": "IPY_MODEL_64c02809203d4c3c81832253636c784b",
            "_dom_classes": [],
            "description": " 49%",
            "_model_name": "FloatProgressModel",
            "bar_style": "danger",
            "max": 25000,
            "_view_module": "@jupyter-widgets/controls",
            "_model_module_version": "1.5.0",
            "value": 12242,
            "_view_count": null,
            "_view_module_version": "1.5.0",
            "orientation": "horizontal",
            "min": 0,
            "description_tooltip": null,
            "_model_module": "@jupyter-widgets/controls",
            "layout": "IPY_MODEL_f6d95bcea3c84017bdb6f2be74801583"
          }
        },
        "edc476b0c11d47a5962c02e95c79d7ea": {
          "model_module": "@jupyter-widgets/controls",
          "model_name": "HTMLModel",
          "state": {
            "_view_name": "HTMLView",
            "style": "IPY_MODEL_5a6c997e3f36497a8dcb89ed63def676",
            "_dom_classes": [],
            "description": "",
            "_model_name": "HTMLModel",
            "placeholder": "​",
            "_view_module": "@jupyter-widgets/controls",
            "_model_module_version": "1.5.0",
            "value": " 12242/25000 [00:00&lt;00:00, 122414.86 examples/s]",
            "_view_count": null,
            "_view_module_version": "1.5.0",
            "description_tooltip": null,
            "_model_module": "@jupyter-widgets/controls",
            "layout": "IPY_MODEL_98d7f6e0e421491c9b9b8d77812f3424"
          }
        },
        "64c02809203d4c3c81832253636c784b": {
          "model_module": "@jupyter-widgets/controls",
          "model_name": "ProgressStyleModel",
          "state": {
            "_view_name": "StyleView",
            "_model_name": "ProgressStyleModel",
            "description_width": "initial",
            "_view_module": "@jupyter-widgets/base",
            "_model_module_version": "1.5.0",
            "_view_count": null,
            "_view_module_version": "1.2.0",
            "bar_color": null,
            "_model_module": "@jupyter-widgets/controls"
          }
        },
        "f6d95bcea3c84017bdb6f2be74801583": {
          "model_module": "@jupyter-widgets/base",
          "model_name": "LayoutModel",
          "state": {
            "_view_name": "LayoutView",
            "grid_template_rows": null,
            "right": null,
            "justify_content": null,
            "_view_module": "@jupyter-widgets/base",
            "overflow": null,
            "_model_module_version": "1.2.0",
            "_view_count": null,
            "flex_flow": null,
            "width": null,
            "min_width": null,
            "border": null,
            "align_items": null,
            "bottom": null,
            "_model_module": "@jupyter-widgets/base",
            "top": null,
            "grid_column": null,
            "overflow_y": null,
            "overflow_x": null,
            "grid_auto_flow": null,
            "grid_area": null,
            "grid_template_columns": null,
            "flex": null,
            "_model_name": "LayoutModel",
            "justify_items": null,
            "grid_row": null,
            "max_height": null,
            "align_content": null,
            "visibility": null,
            "align_self": null,
            "height": null,
            "min_height": null,
            "padding": null,
            "grid_auto_rows": null,
            "grid_gap": null,
            "max_width": null,
            "order": null,
            "_view_module_version": "1.2.0",
            "grid_template_areas": null,
            "object_position": null,
            "object_fit": null,
            "grid_auto_columns": null,
            "margin": null,
            "display": null,
            "left": null
          }
        },
        "5a6c997e3f36497a8dcb89ed63def676": {
          "model_module": "@jupyter-widgets/controls",
          "model_name": "DescriptionStyleModel",
          "state": {
            "_view_name": "StyleView",
            "_model_name": "DescriptionStyleModel",
            "description_width": "",
            "_view_module": "@jupyter-widgets/base",
            "_model_module_version": "1.5.0",
            "_view_count": null,
            "_view_module_version": "1.2.0",
            "_model_module": "@jupyter-widgets/controls"
          }
        },
        "98d7f6e0e421491c9b9b8d77812f3424": {
          "model_module": "@jupyter-widgets/base",
          "model_name": "LayoutModel",
          "state": {
            "_view_name": "LayoutView",
            "grid_template_rows": null,
            "right": null,
            "justify_content": null,
            "_view_module": "@jupyter-widgets/base",
            "overflow": null,
            "_model_module_version": "1.2.0",
            "_view_count": null,
            "flex_flow": null,
            "width": null,
            "min_width": null,
            "border": null,
            "align_items": null,
            "bottom": null,
            "_model_module": "@jupyter-widgets/base",
            "top": null,
            "grid_column": null,
            "overflow_y": null,
            "overflow_x": null,
            "grid_auto_flow": null,
            "grid_area": null,
            "grid_template_columns": null,
            "flex": null,
            "_model_name": "LayoutModel",
            "justify_items": null,
            "grid_row": null,
            "max_height": null,
            "align_content": null,
            "visibility": null,
            "align_self": null,
            "height": null,
            "min_height": null,
            "padding": null,
            "grid_auto_rows": null,
            "grid_gap": null,
            "max_width": null,
            "order": null,
            "_view_module_version": "1.2.0",
            "grid_template_areas": null,
            "object_position": null,
            "object_fit": null,
            "grid_auto_columns": null,
            "margin": null,
            "display": null,
            "left": null
          }
        },
        "4f49d918a190403b8a41fcf1d7bc096b": {
          "model_module": "@jupyter-widgets/controls",
          "model_name": "HBoxModel",
          "state": {
            "_view_name": "HBoxView",
            "_dom_classes": [],
            "_model_name": "HBoxModel",
            "_view_module": "@jupyter-widgets/controls",
            "_model_module_version": "1.5.0",
            "_view_count": null,
            "_view_module_version": "1.5.0",
            "box_style": "",
            "layout": "IPY_MODEL_e4f9c3db7ee54346a27199562c107b06",
            "_model_module": "@jupyter-widgets/controls",
            "children": [
              "IPY_MODEL_2d0927c94584447598e94a758de89997",
              "IPY_MODEL_e9518ebd3be84014bca2eb7f2cef5bcf"
            ]
          }
        },
        "e4f9c3db7ee54346a27199562c107b06": {
          "model_module": "@jupyter-widgets/base",
          "model_name": "LayoutModel",
          "state": {
            "_view_name": "LayoutView",
            "grid_template_rows": null,
            "right": null,
            "justify_content": null,
            "_view_module": "@jupyter-widgets/base",
            "overflow": null,
            "_model_module_version": "1.2.0",
            "_view_count": null,
            "flex_flow": null,
            "width": null,
            "min_width": null,
            "border": null,
            "align_items": null,
            "bottom": null,
            "_model_module": "@jupyter-widgets/base",
            "top": null,
            "grid_column": null,
            "overflow_y": null,
            "overflow_x": null,
            "grid_auto_flow": null,
            "grid_area": null,
            "grid_template_columns": null,
            "flex": null,
            "_model_name": "LayoutModel",
            "justify_items": null,
            "grid_row": null,
            "max_height": null,
            "align_content": null,
            "visibility": null,
            "align_self": null,
            "height": null,
            "min_height": null,
            "padding": null,
            "grid_auto_rows": null,
            "grid_gap": null,
            "max_width": null,
            "order": null,
            "_view_module_version": "1.2.0",
            "grid_template_areas": null,
            "object_position": null,
            "object_fit": null,
            "grid_auto_columns": null,
            "margin": null,
            "display": null,
            "left": null
          }
        },
        "2d0927c94584447598e94a758de89997": {
          "model_module": "@jupyter-widgets/controls",
          "model_name": "FloatProgressModel",
          "state": {
            "_view_name": "ProgressView",
            "style": "IPY_MODEL_6342e7e9bc5b43ffa13c611cb0bdbe76",
            "_dom_classes": [],
            "description": "",
            "_model_name": "FloatProgressModel",
            "bar_style": "info",
            "max": 1,
            "_view_module": "@jupyter-widgets/controls",
            "_model_module_version": "1.5.0",
            "value": 1,
            "_view_count": null,
            "_view_module_version": "1.5.0",
            "orientation": "horizontal",
            "min": 0,
            "description_tooltip": null,
            "_model_module": "@jupyter-widgets/controls",
            "layout": "IPY_MODEL_a6e54dad29ec46a7825e60f9fdbca8b7"
          }
        },
        "e9518ebd3be84014bca2eb7f2cef5bcf": {
          "model_module": "@jupyter-widgets/controls",
          "model_name": "HTMLModel",
          "state": {
            "_view_name": "HTMLView",
            "style": "IPY_MODEL_41191a4d5ede45749595d3df21e0d0b8",
            "_dom_classes": [],
            "description": "",
            "_model_name": "HTMLModel",
            "placeholder": "​",
            "_view_module": "@jupyter-widgets/controls",
            "_model_module_version": "1.5.0",
            "value": " 50000/0 [00:16&lt;00:00, 3840.46 examples/s]",
            "_view_count": null,
            "_view_module_version": "1.5.0",
            "description_tooltip": null,
            "_model_module": "@jupyter-widgets/controls",
            "layout": "IPY_MODEL_638acaacecf441fc864c19885c95f581"
          }
        },
        "6342e7e9bc5b43ffa13c611cb0bdbe76": {
          "model_module": "@jupyter-widgets/controls",
          "model_name": "ProgressStyleModel",
          "state": {
            "_view_name": "StyleView",
            "_model_name": "ProgressStyleModel",
            "description_width": "initial",
            "_view_module": "@jupyter-widgets/base",
            "_model_module_version": "1.5.0",
            "_view_count": null,
            "_view_module_version": "1.2.0",
            "bar_color": null,
            "_model_module": "@jupyter-widgets/controls"
          }
        },
        "a6e54dad29ec46a7825e60f9fdbca8b7": {
          "model_module": "@jupyter-widgets/base",
          "model_name": "LayoutModel",
          "state": {
            "_view_name": "LayoutView",
            "grid_template_rows": null,
            "right": null,
            "justify_content": null,
            "_view_module": "@jupyter-widgets/base",
            "overflow": null,
            "_model_module_version": "1.2.0",
            "_view_count": null,
            "flex_flow": null,
            "width": null,
            "min_width": null,
            "border": null,
            "align_items": null,
            "bottom": null,
            "_model_module": "@jupyter-widgets/base",
            "top": null,
            "grid_column": null,
            "overflow_y": null,
            "overflow_x": null,
            "grid_auto_flow": null,
            "grid_area": null,
            "grid_template_columns": null,
            "flex": null,
            "_model_name": "LayoutModel",
            "justify_items": null,
            "grid_row": null,
            "max_height": null,
            "align_content": null,
            "visibility": null,
            "align_self": null,
            "height": null,
            "min_height": null,
            "padding": null,
            "grid_auto_rows": null,
            "grid_gap": null,
            "max_width": null,
            "order": null,
            "_view_module_version": "1.2.0",
            "grid_template_areas": null,
            "object_position": null,
            "object_fit": null,
            "grid_auto_columns": null,
            "margin": null,
            "display": null,
            "left": null
          }
        },
        "41191a4d5ede45749595d3df21e0d0b8": {
          "model_module": "@jupyter-widgets/controls",
          "model_name": "DescriptionStyleModel",
          "state": {
            "_view_name": "StyleView",
            "_model_name": "DescriptionStyleModel",
            "description_width": "",
            "_view_module": "@jupyter-widgets/base",
            "_model_module_version": "1.5.0",
            "_view_count": null,
            "_view_module_version": "1.2.0",
            "_model_module": "@jupyter-widgets/controls"
          }
        },
        "638acaacecf441fc864c19885c95f581": {
          "model_module": "@jupyter-widgets/base",
          "model_name": "LayoutModel",
          "state": {
            "_view_name": "LayoutView",
            "grid_template_rows": null,
            "right": null,
            "justify_content": null,
            "_view_module": "@jupyter-widgets/base",
            "overflow": null,
            "_model_module_version": "1.2.0",
            "_view_count": null,
            "flex_flow": null,
            "width": null,
            "min_width": null,
            "border": null,
            "align_items": null,
            "bottom": null,
            "_model_module": "@jupyter-widgets/base",
            "top": null,
            "grid_column": null,
            "overflow_y": null,
            "overflow_x": null,
            "grid_auto_flow": null,
            "grid_area": null,
            "grid_template_columns": null,
            "flex": null,
            "_model_name": "LayoutModel",
            "justify_items": null,
            "grid_row": null,
            "max_height": null,
            "align_content": null,
            "visibility": null,
            "align_self": null,
            "height": null,
            "min_height": null,
            "padding": null,
            "grid_auto_rows": null,
            "grid_gap": null,
            "max_width": null,
            "order": null,
            "_view_module_version": "1.2.0",
            "grid_template_areas": null,
            "object_position": null,
            "object_fit": null,
            "grid_auto_columns": null,
            "margin": null,
            "display": null,
            "left": null
          }
        },
        "c75bb03fb59e45779f311cab33037396": {
          "model_module": "@jupyter-widgets/controls",
          "model_name": "HBoxModel",
          "state": {
            "_view_name": "HBoxView",
            "_dom_classes": [],
            "_model_name": "HBoxModel",
            "_view_module": "@jupyter-widgets/controls",
            "_model_module_version": "1.5.0",
            "_view_count": null,
            "_view_module_version": "1.5.0",
            "box_style": "",
            "layout": "IPY_MODEL_bfb83a6297da49e8b8291b015228b40c",
            "_model_module": "@jupyter-widgets/controls",
            "children": [
              "IPY_MODEL_9ad45df765e24b79a8cbb01a41991905",
              "IPY_MODEL_4f8e361ec5e24f63ac1fd58143525068"
            ]
          }
        },
        "bfb83a6297da49e8b8291b015228b40c": {
          "model_module": "@jupyter-widgets/base",
          "model_name": "LayoutModel",
          "state": {
            "_view_name": "LayoutView",
            "grid_template_rows": null,
            "right": null,
            "justify_content": null,
            "_view_module": "@jupyter-widgets/base",
            "overflow": null,
            "_model_module_version": "1.2.0",
            "_view_count": null,
            "flex_flow": null,
            "width": null,
            "min_width": null,
            "border": null,
            "align_items": null,
            "bottom": null,
            "_model_module": "@jupyter-widgets/base",
            "top": null,
            "grid_column": null,
            "overflow_y": null,
            "overflow_x": null,
            "grid_auto_flow": null,
            "grid_area": null,
            "grid_template_columns": null,
            "flex": null,
            "_model_name": "LayoutModel",
            "justify_items": null,
            "grid_row": null,
            "max_height": null,
            "align_content": null,
            "visibility": null,
            "align_self": null,
            "height": null,
            "min_height": null,
            "padding": null,
            "grid_auto_rows": null,
            "grid_gap": null,
            "max_width": null,
            "order": null,
            "_view_module_version": "1.2.0",
            "grid_template_areas": null,
            "object_position": null,
            "object_fit": null,
            "grid_auto_columns": null,
            "margin": null,
            "display": null,
            "left": null
          }
        },
        "9ad45df765e24b79a8cbb01a41991905": {
          "model_module": "@jupyter-widgets/controls",
          "model_name": "FloatProgressModel",
          "state": {
            "_view_name": "ProgressView",
            "style": "IPY_MODEL_7e1d0412d6f44bcc89fe47b76462f5fc",
            "_dom_classes": [],
            "description": " 95%",
            "_model_name": "FloatProgressModel",
            "bar_style": "danger",
            "max": 50000,
            "_view_module": "@jupyter-widgets/controls",
            "_model_module_version": "1.5.0",
            "value": 47679,
            "_view_count": null,
            "_view_module_version": "1.5.0",
            "orientation": "horizontal",
            "min": 0,
            "description_tooltip": null,
            "_model_module": "@jupyter-widgets/controls",
            "layout": "IPY_MODEL_f8d3319665c94bf3bb7c7116e5c5e32a"
          }
        },
        "4f8e361ec5e24f63ac1fd58143525068": {
          "model_module": "@jupyter-widgets/controls",
          "model_name": "HTMLModel",
          "state": {
            "_view_name": "HTMLView",
            "style": "IPY_MODEL_dedc1bc62f7246a68ee20268d8c17bec",
            "_dom_classes": [],
            "description": "",
            "_model_name": "HTMLModel",
            "placeholder": "​",
            "_view_module": "@jupyter-widgets/controls",
            "_model_module_version": "1.5.0",
            "value": " 47679/50000 [00:05&lt;00:00, 98299.46 examples/s]",
            "_view_count": null,
            "_view_module_version": "1.5.0",
            "description_tooltip": null,
            "_model_module": "@jupyter-widgets/controls",
            "layout": "IPY_MODEL_cfd353a4a8df4902a858204e9c2a4e79"
          }
        },
        "7e1d0412d6f44bcc89fe47b76462f5fc": {
          "model_module": "@jupyter-widgets/controls",
          "model_name": "ProgressStyleModel",
          "state": {
            "_view_name": "StyleView",
            "_model_name": "ProgressStyleModel",
            "description_width": "initial",
            "_view_module": "@jupyter-widgets/base",
            "_model_module_version": "1.5.0",
            "_view_count": null,
            "_view_module_version": "1.2.0",
            "bar_color": null,
            "_model_module": "@jupyter-widgets/controls"
          }
        },
        "f8d3319665c94bf3bb7c7116e5c5e32a": {
          "model_module": "@jupyter-widgets/base",
          "model_name": "LayoutModel",
          "state": {
            "_view_name": "LayoutView",
            "grid_template_rows": null,
            "right": null,
            "justify_content": null,
            "_view_module": "@jupyter-widgets/base",
            "overflow": null,
            "_model_module_version": "1.2.0",
            "_view_count": null,
            "flex_flow": null,
            "width": null,
            "min_width": null,
            "border": null,
            "align_items": null,
            "bottom": null,
            "_model_module": "@jupyter-widgets/base",
            "top": null,
            "grid_column": null,
            "overflow_y": null,
            "overflow_x": null,
            "grid_auto_flow": null,
            "grid_area": null,
            "grid_template_columns": null,
            "flex": null,
            "_model_name": "LayoutModel",
            "justify_items": null,
            "grid_row": null,
            "max_height": null,
            "align_content": null,
            "visibility": null,
            "align_self": null,
            "height": null,
            "min_height": null,
            "padding": null,
            "grid_auto_rows": null,
            "grid_gap": null,
            "max_width": null,
            "order": null,
            "_view_module_version": "1.2.0",
            "grid_template_areas": null,
            "object_position": null,
            "object_fit": null,
            "grid_auto_columns": null,
            "margin": null,
            "display": null,
            "left": null
          }
        },
        "dedc1bc62f7246a68ee20268d8c17bec": {
          "model_module": "@jupyter-widgets/controls",
          "model_name": "DescriptionStyleModel",
          "state": {
            "_view_name": "StyleView",
            "_model_name": "DescriptionStyleModel",
            "description_width": "",
            "_view_module": "@jupyter-widgets/base",
            "_model_module_version": "1.5.0",
            "_view_count": null,
            "_view_module_version": "1.2.0",
            "_model_module": "@jupyter-widgets/controls"
          }
        },
        "cfd353a4a8df4902a858204e9c2a4e79": {
          "model_module": "@jupyter-widgets/base",
          "model_name": "LayoutModel",
          "state": {
            "_view_name": "LayoutView",
            "grid_template_rows": null,
            "right": null,
            "justify_content": null,
            "_view_module": "@jupyter-widgets/base",
            "overflow": null,
            "_model_module_version": "1.2.0",
            "_view_count": null,
            "flex_flow": null,
            "width": null,
            "min_width": null,
            "border": null,
            "align_items": null,
            "bottom": null,
            "_model_module": "@jupyter-widgets/base",
            "top": null,
            "grid_column": null,
            "overflow_y": null,
            "overflow_x": null,
            "grid_auto_flow": null,
            "grid_area": null,
            "grid_template_columns": null,
            "flex": null,
            "_model_name": "LayoutModel",
            "justify_items": null,
            "grid_row": null,
            "max_height": null,
            "align_content": null,
            "visibility": null,
            "align_self": null,
            "height": null,
            "min_height": null,
            "padding": null,
            "grid_auto_rows": null,
            "grid_gap": null,
            "max_width": null,
            "order": null,
            "_view_module_version": "1.2.0",
            "grid_template_areas": null,
            "object_position": null,
            "object_fit": null,
            "grid_auto_columns": null,
            "margin": null,
            "display": null,
            "left": null
          }
        }
      }
    }
  },
  "cells": [
    {
      "cell_type": "markdown",
      "metadata": {
        "id": "view-in-github",
        "colab_type": "text"
      },
      "source": [
        "<a href=\"https://colab.research.google.com/github/visith1577/Machine-learning-first-projects/blob/main/imdb_multi_models.ipynb\" target=\"_parent\"><img src=\"https://colab.research.google.com/assets/colab-badge.svg\" alt=\"Open In Colab\"/></a>"
      ]
    },
    {
      "cell_type": "code",
      "metadata": {
        "id": "E4QzL5IuUfCy"
      },
      "source": [
        "import tensorflow as tf\r\n",
        "import tensorflow_datasets as tfds\r\n",
        "import numpy as np\r\n",
        "import matplotlib.pyplot as plt\r\n",
        "%matplotlib inline"
      ],
      "execution_count": 1,
      "outputs": []
    },
    {
      "cell_type": "code",
      "metadata": {
        "colab": {
          "base_uri": "https://localhost:8080/",
          "height": 365,
          "referenced_widgets": [
            "590fe00481b84144acf1fd2ced1635d5",
            "1659070472bd46ad8834c811a6aa63b2",
            "f651a55e32bd4362b9f44a5bdf42eb78",
            "d4018e74c0d74cc1a563e73d0fefcc8c",
            "15cef10650ae4047b1baa58a660cbd15",
            "9c4f7067f8ae41e7b640f01f62d2b0fd",
            "8fa0e2ac6af4424490521045d166155b",
            "31116549c1ad4039b2e122b693f62438",
            "1e279fec69294ed7b1160504971e24fe",
            "8601d5db907f41718abd6eb301fb5049",
            "c7ffb42d3d6944d38cad11cbd0bfd1d9",
            "0a39ee0c46f44b30b922bb5571f6d02c",
            "e9fc9c943a6d4482898d03ad2660c87c",
            "d4f3e7708e2743eb94bc1c5378b1c713",
            "a5fba557270047d1b2dad10cd5334ce3",
            "ea99936de6df4944a005b53932037c49",
            "9205a0bdef7e46498c48713cc02376ec",
            "8a2470a17d28484ca2d0756f9e1ecf7d",
            "d095f9a556014b309d8030fb3048c520",
            "5146500276d547b0b8f37acdd13f6a8d",
            "c2b679690823402981a3fbfe455718ce",
            "7b9e8175f46b45dca4dd3cb21f17fd49",
            "46b2e70205a94def96723f7ccdcdcef8",
            "c6fc02d7131e4fe788b7e1651341856b",
            "92005b293a1b40a1b707ee585be8450b",
            "a9774bbbc4d34f27b53012b0319d2987",
            "40319eeade9642c58dd0849fcc0ff305",
            "b39b3797762c4f41aeb9217218718f86",
            "151724f9f7f74c2f9b1cfd144434fad2",
            "443b5059984042e1b7a8241fc8f78d78",
            "012a3d4188ff47fd9c904ebe9caf7c6b",
            "9596dee193ec4306b8de898ba600d2e6",
            "9408876831484c6caf1c058091fee162",
            "485e24d5d6d741968705f29a94a353b7",
            "22f8d0c1fd3e427fb957ab45061790f6",
            "1906d6fa951e459bb0078c0120ae94d2",
            "25fa572040014cc9a96dbe2658f69598",
            "1db02bd94ceb4708a384860d2c7a3ff6",
            "6737a31342824ebaa918e421c5aa0595",
            "d326048685614888931ba6c435e8026c",
            "9603efa9ba7c437bab9f79644ecc6ae8",
            "10b14c44ec2243f38f204f01e62725ec",
            "60baf0c780e94050a4cb1a340c0d3954",
            "edc476b0c11d47a5962c02e95c79d7ea",
            "64c02809203d4c3c81832253636c784b",
            "f6d95bcea3c84017bdb6f2be74801583",
            "5a6c997e3f36497a8dcb89ed63def676",
            "98d7f6e0e421491c9b9b8d77812f3424",
            "4f49d918a190403b8a41fcf1d7bc096b",
            "e4f9c3db7ee54346a27199562c107b06",
            "2d0927c94584447598e94a758de89997",
            "e9518ebd3be84014bca2eb7f2cef5bcf",
            "6342e7e9bc5b43ffa13c611cb0bdbe76",
            "a6e54dad29ec46a7825e60f9fdbca8b7",
            "41191a4d5ede45749595d3df21e0d0b8",
            "638acaacecf441fc864c19885c95f581",
            "c75bb03fb59e45779f311cab33037396",
            "bfb83a6297da49e8b8291b015228b40c",
            "9ad45df765e24b79a8cbb01a41991905",
            "4f8e361ec5e24f63ac1fd58143525068",
            "7e1d0412d6f44bcc89fe47b76462f5fc",
            "f8d3319665c94bf3bb7c7116e5c5e32a",
            "dedc1bc62f7246a68ee20268d8c17bec",
            "cfd353a4a8df4902a858204e9c2a4e79"
          ]
        },
        "id": "OhT6_5ZpUyJf",
        "outputId": "8421f8c6-1237-418d-ed7b-7da040501e0b"
      },
      "source": [
        "imdb, info = tfds.load(\"imdb_reviews\", with_info=True, as_supervised=True)"
      ],
      "execution_count": 2,
      "outputs": [
        {
          "output_type": "stream",
          "text": [
            "\u001b[1mDownloading and preparing dataset imdb_reviews/plain_text/1.0.0 (download: 80.23 MiB, generated: Unknown size, total: 80.23 MiB) to /root/tensorflow_datasets/imdb_reviews/plain_text/1.0.0...\u001b[0m\n"
          ],
          "name": "stdout"
        },
        {
          "output_type": "display_data",
          "data": {
            "application/vnd.jupyter.widget-view+json": {
              "model_id": "590fe00481b84144acf1fd2ced1635d5",
              "version_minor": 0,
              "version_major": 2
            },
            "text/plain": [
              "HBox(children=(FloatProgress(value=1.0, bar_style='info', description='Dl Completed...', max=1.0, style=Progre…"
            ]
          },
          "metadata": {
            "tags": []
          }
        },
        {
          "output_type": "display_data",
          "data": {
            "application/vnd.jupyter.widget-view+json": {
              "model_id": "1e279fec69294ed7b1160504971e24fe",
              "version_minor": 0,
              "version_major": 2
            },
            "text/plain": [
              "HBox(children=(FloatProgress(value=1.0, bar_style='info', description='Dl Size...', max=1.0, style=ProgressSty…"
            ]
          },
          "metadata": {
            "tags": []
          }
        },
        {
          "output_type": "stream",
          "text": [
            "\n",
            "\n",
            "\n",
            "\n"
          ],
          "name": "stdout"
        },
        {
          "output_type": "display_data",
          "data": {
            "application/vnd.jupyter.widget-view+json": {
              "model_id": "9205a0bdef7e46498c48713cc02376ec",
              "version_minor": 0,
              "version_major": 2
            },
            "text/plain": [
              "HBox(children=(FloatProgress(value=1.0, bar_style='info', max=1.0), HTML(value='')))"
            ]
          },
          "metadata": {
            "tags": []
          }
        },
        {
          "output_type": "stream",
          "text": [
            "\rShuffling and writing examples to /root/tensorflow_datasets/imdb_reviews/plain_text/1.0.0.incompleteLSFR9O/imdb_reviews-train.tfrecord\n"
          ],
          "name": "stdout"
        },
        {
          "output_type": "display_data",
          "data": {
            "application/vnd.jupyter.widget-view+json": {
              "model_id": "92005b293a1b40a1b707ee585be8450b",
              "version_minor": 0,
              "version_major": 2
            },
            "text/plain": [
              "HBox(children=(FloatProgress(value=0.0, max=25000.0), HTML(value='')))"
            ]
          },
          "metadata": {
            "tags": []
          }
        },
        {
          "output_type": "stream",
          "text": [
            "\r"
          ],
          "name": "stdout"
        },
        {
          "output_type": "display_data",
          "data": {
            "application/vnd.jupyter.widget-view+json": {
              "model_id": "9408876831484c6caf1c058091fee162",
              "version_minor": 0,
              "version_major": 2
            },
            "text/plain": [
              "HBox(children=(FloatProgress(value=1.0, bar_style='info', max=1.0), HTML(value='')))"
            ]
          },
          "metadata": {
            "tags": []
          }
        },
        {
          "output_type": "stream",
          "text": [
            "\rShuffling and writing examples to /root/tensorflow_datasets/imdb_reviews/plain_text/1.0.0.incompleteLSFR9O/imdb_reviews-test.tfrecord\n"
          ],
          "name": "stdout"
        },
        {
          "output_type": "display_data",
          "data": {
            "application/vnd.jupyter.widget-view+json": {
              "model_id": "9603efa9ba7c437bab9f79644ecc6ae8",
              "version_minor": 0,
              "version_major": 2
            },
            "text/plain": [
              "HBox(children=(FloatProgress(value=0.0, max=25000.0), HTML(value='')))"
            ]
          },
          "metadata": {
            "tags": []
          }
        },
        {
          "output_type": "stream",
          "text": [
            "\r"
          ],
          "name": "stdout"
        },
        {
          "output_type": "display_data",
          "data": {
            "application/vnd.jupyter.widget-view+json": {
              "model_id": "4f49d918a190403b8a41fcf1d7bc096b",
              "version_minor": 0,
              "version_major": 2
            },
            "text/plain": [
              "HBox(children=(FloatProgress(value=1.0, bar_style='info', max=1.0), HTML(value='')))"
            ]
          },
          "metadata": {
            "tags": []
          }
        },
        {
          "output_type": "stream",
          "text": [
            "\rShuffling and writing examples to /root/tensorflow_datasets/imdb_reviews/plain_text/1.0.0.incompleteLSFR9O/imdb_reviews-unsupervised.tfrecord\n"
          ],
          "name": "stdout"
        },
        {
          "output_type": "display_data",
          "data": {
            "application/vnd.jupyter.widget-view+json": {
              "model_id": "c75bb03fb59e45779f311cab33037396",
              "version_minor": 0,
              "version_major": 2
            },
            "text/plain": [
              "HBox(children=(FloatProgress(value=0.0, max=50000.0), HTML(value='')))"
            ]
          },
          "metadata": {
            "tags": []
          }
        },
        {
          "output_type": "stream",
          "text": [
            "WARNING:absl:Dataset is using deprecated text encoder API which will be removed soon. Please use the plain_text version of the dataset and migrate to `tensorflow_text`.\n"
          ],
          "name": "stderr"
        },
        {
          "output_type": "stream",
          "text": [
            "\u001b[1mDataset imdb_reviews downloaded and prepared to /root/tensorflow_datasets/imdb_reviews/plain_text/1.0.0. Subsequent calls will reuse this data.\u001b[0m\n"
          ],
          "name": "stdout"
        }
      ]
    },
    {
      "cell_type": "code",
      "metadata": {
        "id": "5yO17WReU-xQ"
      },
      "source": [
        "train_data, test_data = imdb['train'], imdb['test']\r\n",
        "\r\n",
        "training_sentences = []\r\n",
        "training_labels = []\r\n",
        "\r\n",
        "testing_sentences = []\r\n",
        "testing_labels = []\r\n",
        "\r\n",
        "for s, l in train_data:\r\n",
        "  training_sentences.append(str(s.numpy()))\r\n",
        "  training_labels.append(l.numpy())\r\n",
        "\r\n",
        "for s, l in test_data:\r\n",
        "  testing_sentences.append(str(s.numpy()))\r\n",
        "  testing_labels.append(l.numpy())\r\n",
        "\r\n",
        "training_labels_final = np.array(training_labels)\r\n",
        "testing_labels_final = np.array(testing_labels)    "
      ],
      "execution_count": 3,
      "outputs": []
    },
    {
      "cell_type": "code",
      "metadata": {
        "id": "xHd_-2K0WU-o"
      },
      "source": [
        "vocab_size = 1000\r\n",
        "embed_dim = 32\r\n",
        "maxlen = 120\r\n",
        "oov_token = \"<OOV>\"\r\n",
        "trunc_type = \"post\"\r\n",
        "pad_type = 'post'\r\n",
        "\r\n",
        "from tensorflow.keras.preprocessing.text import  Tokenizer\r\n",
        "from tensorflow.keras.preprocessing.sequence import pad_sequences\r\n",
        "\r\n",
        "tokenizer = Tokenizer(num_words=vocab_size, oov_token=oov_token)\r\n",
        "tokenizer.fit_on_texts(training_sentences)\r\n",
        "word_index = tokenizer.word_index\r\n",
        "sequences = tokenizer.texts_to_sequences(training_sentences)\r\n",
        "padded = pad_sequences(sequences, maxlen=maxlen, truncating=trunc_type,\r\n",
        "                       #pad_type=pad_type\r\n",
        "                       )\r\n",
        "\r\n",
        "testing_sequences = tokenizer.texts_to_sequences(testing_sentences)\r\n",
        "padded_test_seq = pad_sequences(testing_sequences, maxlen=maxlen)"
      ],
      "execution_count": 4,
      "outputs": []
    },
    {
      "cell_type": "code",
      "metadata": {
        "colab": {
          "base_uri": "https://localhost:8080/"
        },
        "id": "3fKIojhaaqt4",
        "outputId": "f902eb22-87b1-4504-e6a7-8f1b3bb0f324"
      },
      "source": [
        "reverse_word_dict = dict([(value, key) for (key, value) in word_index.items()])\r\n",
        "\r\n",
        "def decode(text):\r\n",
        "  return \" \".join([reverse_word_dict.get(i, '?') for i in text])\r\n",
        "\r\n",
        "print(decode(padded[1]))\r\n",
        "print(training_sentences[1])  "
      ],
      "execution_count": 5,
      "outputs": [
        {
          "output_type": "stream",
          "text": [
            "? ? ? ? ? ? ? b'i have been known to fall <OOV> during films but this is usually due to a <OOV> of things including really <OOV> being <OOV> and <OOV> on the <OOV> and having just <OOV> a lot however on this <OOV> i <OOV> <OOV> because the film was <OOV> the plot development was <OOV> <OOV> slow and boring things seemed to happen but with no <OOV> of what was <OOV> them or why i admit i may have <OOV> part of the film but i watched the <OOV> of it and everything just seemed to happen of its own <OOV> without any real <OOV> for anything else i <OOV> recommend this film at all '\n",
            "b'I have been known to fall asleep during films, but this is usually due to a combination of things including, really tired, being warm and comfortable on the sette and having just eaten a lot. However on this occasion I fell asleep because the film was rubbish. The plot development was constant. Constantly slow and boring. Things seemed to happen, but with no explanation of what was causing them or why. I admit, I may have missed part of the film, but i watched the majority of it and everything just seemed to happen of its own accord without any real concern for anything else. I cant recommend this film at all.'\n"
          ],
          "name": "stdout"
        }
      ]
    },
    {
      "cell_type": "code",
      "metadata": {
        "colab": {
          "base_uri": "https://localhost:8080/"
        },
        "id": "FhvwHumOcuoD",
        "outputId": "b4adc7a8-4449-494e-e8f4-f62dada0172b"
      },
      "source": [
        "model = tf.keras.Sequential([\r\n",
        "                             tf.keras.layers.Embedding(vocab_size, embed_dim, input_length=maxlen),\r\n",
        "                             tf.keras.layers.Bidirectional(tf.keras.layers.LSTM(32)),\r\n",
        "                             tf.keras.layers.Dense(6, activation='relu'),\r\n",
        "                             tf.keras.layers.Dense(1, activation='sigmoid')\r\n",
        "])\r\n",
        "\r\n",
        "model.compile(loss='binary_crossentropy',optimizer='adam',metrics=['accuracy'])\r\n",
        "model.summary()"
      ],
      "execution_count": 6,
      "outputs": [
        {
          "output_type": "stream",
          "text": [
            "Model: \"sequential\"\n",
            "_________________________________________________________________\n",
            "Layer (type)                 Output Shape              Param #   \n",
            "=================================================================\n",
            "embedding (Embedding)        (None, 120, 32)           32000     \n",
            "_________________________________________________________________\n",
            "bidirectional (Bidirectional (None, 64)                16640     \n",
            "_________________________________________________________________\n",
            "dense (Dense)                (None, 6)                 390       \n",
            "_________________________________________________________________\n",
            "dense_1 (Dense)              (None, 1)                 7         \n",
            "=================================================================\n",
            "Total params: 49,037\n",
            "Trainable params: 49,037\n",
            "Non-trainable params: 0\n",
            "_________________________________________________________________\n"
          ],
          "name": "stdout"
        }
      ]
    },
    {
      "cell_type": "code",
      "metadata": {
        "colab": {
          "base_uri": "https://localhost:8080/"
        },
        "id": "AfYO3v1yeA3O",
        "outputId": "13859bfb-e448-4300-b82f-ffde46a50f83"
      },
      "source": [
        "num_epochs = 50\r\n",
        "history = model.fit(padded, training_labels_final, epochs=num_epochs, validation_data=(padded_test_seq, testing_labels_final))"
      ],
      "execution_count": 7,
      "outputs": [
        {
          "output_type": "stream",
          "text": [
            "Epoch 1/50\n",
            "782/782 [==============================] - 22s 16ms/step - loss: 0.6233 - accuracy: 0.6320 - val_loss: 0.4409 - val_accuracy: 0.8043\n",
            "Epoch 2/50\n",
            "782/782 [==============================] - 12s 16ms/step - loss: 0.4375 - accuracy: 0.8076 - val_loss: 0.3846 - val_accuracy: 0.8267\n",
            "Epoch 3/50\n",
            "782/782 [==============================] - 12s 16ms/step - loss: 0.4151 - accuracy: 0.8122 - val_loss: 0.3889 - val_accuracy: 0.8268\n",
            "Epoch 4/50\n",
            "782/782 [==============================] - 12s 16ms/step - loss: 0.3936 - accuracy: 0.8229 - val_loss: 0.3803 - val_accuracy: 0.8281\n",
            "Epoch 5/50\n",
            "782/782 [==============================] - 13s 16ms/step - loss: 0.3828 - accuracy: 0.8260 - val_loss: 0.4245 - val_accuracy: 0.8202\n",
            "Epoch 6/50\n",
            "782/782 [==============================] - 12s 16ms/step - loss: 0.3688 - accuracy: 0.8388 - val_loss: 0.3919 - val_accuracy: 0.8286\n",
            "Epoch 7/50\n",
            "782/782 [==============================] - 12s 16ms/step - loss: 0.3504 - accuracy: 0.8444 - val_loss: 0.3813 - val_accuracy: 0.8301\n",
            "Epoch 8/50\n",
            "782/782 [==============================] - 13s 16ms/step - loss: 0.3319 - accuracy: 0.8531 - val_loss: 0.3945 - val_accuracy: 0.8231\n",
            "Epoch 9/50\n",
            "782/782 [==============================] - 12s 16ms/step - loss: 0.3316 - accuracy: 0.8517 - val_loss: 0.4117 - val_accuracy: 0.8219\n",
            "Epoch 10/50\n",
            "782/782 [==============================] - 12s 16ms/step - loss: 0.3192 - accuracy: 0.8602 - val_loss: 0.4188 - val_accuracy: 0.8249\n",
            "Epoch 11/50\n",
            "782/782 [==============================] - 12s 16ms/step - loss: 0.3009 - accuracy: 0.8676 - val_loss: 0.4344 - val_accuracy: 0.8242\n",
            "Epoch 12/50\n",
            "782/782 [==============================] - 12s 16ms/step - loss: 0.2856 - accuracy: 0.8782 - val_loss: 0.4412 - val_accuracy: 0.8245\n",
            "Epoch 13/50\n",
            "782/782 [==============================] - 12s 16ms/step - loss: 0.2696 - accuracy: 0.8829 - val_loss: 0.4426 - val_accuracy: 0.8225\n",
            "Epoch 14/50\n",
            "782/782 [==============================] - 12s 15ms/step - loss: 0.2667 - accuracy: 0.8873 - val_loss: 0.4784 - val_accuracy: 0.8233\n",
            "Epoch 15/50\n",
            "782/782 [==============================] - 12s 16ms/step - loss: 0.2547 - accuracy: 0.8921 - val_loss: 0.4599 - val_accuracy: 0.8155\n",
            "Epoch 16/50\n",
            "782/782 [==============================] - 13s 16ms/step - loss: 0.2438 - accuracy: 0.8994 - val_loss: 0.4853 - val_accuracy: 0.8128\n",
            "Epoch 17/50\n",
            "782/782 [==============================] - 12s 16ms/step - loss: 0.2287 - accuracy: 0.9039 - val_loss: 0.5179 - val_accuracy: 0.8150\n",
            "Epoch 18/50\n",
            "782/782 [==============================] - 12s 16ms/step - loss: 0.2195 - accuracy: 0.9101 - val_loss: 0.5197 - val_accuracy: 0.8160\n",
            "Epoch 19/50\n",
            "782/782 [==============================] - 12s 15ms/step - loss: 0.2026 - accuracy: 0.9204 - val_loss: 0.5403 - val_accuracy: 0.8059\n",
            "Epoch 20/50\n",
            "782/782 [==============================] - 12s 16ms/step - loss: 0.1926 - accuracy: 0.9247 - val_loss: 0.5811 - val_accuracy: 0.8041\n",
            "Epoch 21/50\n",
            "782/782 [==============================] - 12s 16ms/step - loss: 0.1977 - accuracy: 0.9240 - val_loss: 0.5751 - val_accuracy: 0.7977\n",
            "Epoch 22/50\n",
            "782/782 [==============================] - 12s 16ms/step - loss: 0.1710 - accuracy: 0.9348 - val_loss: 0.5731 - val_accuracy: 0.8096\n",
            "Epoch 23/50\n",
            "782/782 [==============================] - 12s 16ms/step - loss: 0.1668 - accuracy: 0.9373 - val_loss: 0.6418 - val_accuracy: 0.8109\n",
            "Epoch 24/50\n",
            "782/782 [==============================] - 12s 15ms/step - loss: 0.1472 - accuracy: 0.9467 - val_loss: 0.6276 - val_accuracy: 0.7940\n",
            "Epoch 25/50\n",
            "782/782 [==============================] - 12s 15ms/step - loss: 0.1390 - accuracy: 0.9516 - val_loss: 0.6918 - val_accuracy: 0.8046\n",
            "Epoch 26/50\n",
            "782/782 [==============================] - 12s 16ms/step - loss: 0.1341 - accuracy: 0.9523 - val_loss: 0.7032 - val_accuracy: 0.7970\n",
            "Epoch 27/50\n",
            "782/782 [==============================] - 12s 15ms/step - loss: 0.1097 - accuracy: 0.9632 - val_loss: 0.7489 - val_accuracy: 0.8038\n",
            "Epoch 28/50\n",
            "782/782 [==============================] - 12s 16ms/step - loss: 0.1102 - accuracy: 0.9635 - val_loss: 0.7567 - val_accuracy: 0.7952\n",
            "Epoch 29/50\n",
            "782/782 [==============================] - 12s 15ms/step - loss: 0.1054 - accuracy: 0.9649 - val_loss: 0.7820 - val_accuracy: 0.7863\n",
            "Epoch 30/50\n",
            "782/782 [==============================] - 12s 15ms/step - loss: 0.0993 - accuracy: 0.9671 - val_loss: 0.8060 - val_accuracy: 0.7974\n",
            "Epoch 31/50\n",
            "782/782 [==============================] - 12s 16ms/step - loss: 0.0708 - accuracy: 0.9783 - val_loss: 0.8774 - val_accuracy: 0.7996\n",
            "Epoch 32/50\n",
            "782/782 [==============================] - 12s 15ms/step - loss: 0.0831 - accuracy: 0.9723 - val_loss: 0.9320 - val_accuracy: 0.7898\n",
            "Epoch 33/50\n",
            "782/782 [==============================] - 12s 15ms/step - loss: 0.0724 - accuracy: 0.9772 - val_loss: 0.9522 - val_accuracy: 0.7959\n",
            "Epoch 34/50\n",
            "782/782 [==============================] - 12s 16ms/step - loss: 0.0682 - accuracy: 0.9780 - val_loss: 0.8641 - val_accuracy: 0.7880\n",
            "Epoch 35/50\n",
            "782/782 [==============================] - 13s 16ms/step - loss: 0.0634 - accuracy: 0.9787 - val_loss: 1.0243 - val_accuracy: 0.7904\n",
            "Epoch 36/50\n",
            "782/782 [==============================] - 12s 15ms/step - loss: 0.0499 - accuracy: 0.9851 - val_loss: 1.0729 - val_accuracy: 0.7853\n",
            "Epoch 37/50\n",
            "782/782 [==============================] - 13s 16ms/step - loss: 0.0545 - accuracy: 0.9840 - val_loss: 1.0445 - val_accuracy: 0.7868\n",
            "Epoch 38/50\n",
            "782/782 [==============================] - 12s 16ms/step - loss: 0.0562 - accuracy: 0.9827 - val_loss: 1.0525 - val_accuracy: 0.7948\n",
            "Epoch 39/50\n",
            "782/782 [==============================] - 12s 15ms/step - loss: 0.0501 - accuracy: 0.9843 - val_loss: 1.1389 - val_accuracy: 0.7884\n",
            "Epoch 40/50\n",
            "782/782 [==============================] - 12s 16ms/step - loss: 0.0633 - accuracy: 0.9802 - val_loss: 0.9850 - val_accuracy: 0.7811\n",
            "Epoch 41/50\n",
            "782/782 [==============================] - 13s 16ms/step - loss: 0.0502 - accuracy: 0.9839 - val_loss: 1.1689 - val_accuracy: 0.7906\n",
            "Epoch 42/50\n",
            "782/782 [==============================] - 12s 15ms/step - loss: 0.0439 - accuracy: 0.9871 - val_loss: 1.1596 - val_accuracy: 0.7878\n",
            "Epoch 43/50\n",
            "782/782 [==============================] - 12s 16ms/step - loss: 0.0391 - accuracy: 0.9887 - val_loss: 1.1797 - val_accuracy: 0.7641\n",
            "Epoch 44/50\n",
            "782/782 [==============================] - 12s 16ms/step - loss: 0.0503 - accuracy: 0.9841 - val_loss: 1.2558 - val_accuracy: 0.7950\n",
            "Epoch 45/50\n",
            "782/782 [==============================] - 12s 15ms/step - loss: 0.0324 - accuracy: 0.9909 - val_loss: 1.2597 - val_accuracy: 0.7871\n",
            "Epoch 46/50\n",
            "782/782 [==============================] - 12s 15ms/step - loss: 0.0349 - accuracy: 0.9908 - val_loss: 1.2690 - val_accuracy: 0.7936\n",
            "Epoch 47/50\n",
            "782/782 [==============================] - 12s 16ms/step - loss: 0.0404 - accuracy: 0.9886 - val_loss: 1.3590 - val_accuracy: 0.7782\n",
            "Epoch 48/50\n",
            "782/782 [==============================] - 12s 16ms/step - loss: 0.0282 - accuracy: 0.9924 - val_loss: 1.3494 - val_accuracy: 0.7904\n",
            "Epoch 49/50\n",
            "782/782 [==============================] - 12s 16ms/step - loss: 0.0311 - accuracy: 0.9897 - val_loss: 1.2718 - val_accuracy: 0.7940\n",
            "Epoch 50/50\n",
            "782/782 [==============================] - 12s 16ms/step - loss: 0.0481 - accuracy: 0.9850 - val_loss: 1.3036 - val_accuracy: 0.7811\n"
          ],
          "name": "stdout"
        }
      ]
    },
    {
      "cell_type": "code",
      "metadata": {
        "colab": {
          "base_uri": "https://localhost:8080/",
          "height": 543
        },
        "id": "fP14lkZLeLZw",
        "outputId": "724e6ef3-3dcd-4297-b61e-814e7d760c55"
      },
      "source": [
        "\r\n",
        "def plot_graphs(history, string):\r\n",
        "  plt.plot(history.history[string])\r\n",
        "  plt.plot(history.history['val_'+string])\r\n",
        "  plt.xlabel(\"Epochs\")\r\n",
        "  plt.ylabel(string)\r\n",
        "  plt.legend([string, 'val_'+string])\r\n",
        "  plt.show()\r\n",
        "\r\n",
        "plot_graphs(history, 'accuracy')\r\n",
        "plot_graphs(history, 'loss')"
      ],
      "execution_count": 8,
      "outputs": [
        {
          "output_type": "display_data",
          "data": {
            "image/png": "[encoded data removed]",
            "text/plain": [
              "<Figure size 432x288 with 1 Axes>"
            ]
          },
          "metadata": {
            "tags": [],
            "needs_background": "light"
          }
        },
        {
          "output_type": "display_data",
          "data": {
            "image/png": "[encoded data removed]",
            "text/plain": [
              "<Figure size 432x288 with 1 Axes>"
            ]
          },
          "metadata": {
            "tags": [],
            "needs_background": "light"
          }
        }
      ]
    },
    {
      "cell_type": "code",
      "metadata": {
        "colab": {
          "base_uri": "https://localhost:8080/"
        },
        "id": "rZqm7b_UnjwS",
        "outputId": "6b80b81f-815b-4a8c-c315-dc5a4db5d10f"
      },
      "source": [
        "model2 = tf.keras.Sequential([\r\n",
        "                              tf.keras.layers.Embedding(vocab_size, embed_dim, input_length = maxlen),\r\n",
        "                              tf.keras.layers.Bidirectional(tf.keras.layers.GRU(32)),\r\n",
        "                              tf.keras.layers.Dense(6, activation='relu'),\r\n",
        "                              tf.keras.layers.Dense(1, activation='sigmoid')\r\n",
        "])\r\n",
        "model2.compile(loss='binary_crossentropy',optimizer='adam',metrics=['accuracy'])\r\n",
        "model2.summary()"
      ],
      "execution_count": 9,
      "outputs": [
        {
          "output_type": "stream",
          "text": [
            "Model: \"sequential_1\"\n",
            "_________________________________________________________________\n",
            "Layer (type)                 Output Shape              Param #   \n",
            "=================================================================\n",
            "embedding_1 (Embedding)      (None, 120, 32)           32000     \n",
            "_________________________________________________________________\n",
            "bidirectional_1 (Bidirection (None, 64)                12672     \n",
            "_________________________________________________________________\n",
            "dense_2 (Dense)              (None, 6)                 390       \n",
            "_________________________________________________________________\n",
            "dense_3 (Dense)              (None, 1)                 7         \n",
            "=================================================================\n",
            "Total params: 45,069\n",
            "Trainable params: 45,069\n",
            "Non-trainable params: 0\n",
            "_________________________________________________________________\n"
          ],
          "name": "stdout"
        }
      ]
    },
    {
      "cell_type": "code",
      "metadata": {
        "colab": {
          "base_uri": "https://localhost:8080/"
        },
        "id": "a65jYCzdosZq",
        "outputId": "afab8689-4650-4c9b-a1bb-2c307b618c3c"
      },
      "source": [
        "history2 = model2.fit(\r\n",
        "    padded, training_labels_final, epochs=num_epochs, validation_data=(padded_test_seq, testing_labels_final)\r\n",
        ")"
      ],
      "execution_count": 10,
      "outputs": [
        {
          "output_type": "stream",
          "text": [
            "Epoch 1/50\n",
            "782/782 [==============================] - 15s 16ms/step - loss: 0.6123 - accuracy: 0.6302 - val_loss: 0.4257 - val_accuracy: 0.8063\n",
            "Epoch 2/50\n",
            "782/782 [==============================] - 12s 15ms/step - loss: 0.4211 - accuracy: 0.8078 - val_loss: 0.3771 - val_accuracy: 0.8306\n",
            "Epoch 3/50\n",
            "782/782 [==============================] - 12s 15ms/step - loss: 0.3929 - accuracy: 0.8212 - val_loss: 0.3673 - val_accuracy: 0.8347\n",
            "Epoch 4/50\n",
            "782/782 [==============================] - 12s 15ms/step - loss: 0.3629 - accuracy: 0.8412 - val_loss: 0.3571 - val_accuracy: 0.8388\n",
            "Epoch 5/50\n",
            "782/782 [==============================] - 12s 15ms/step - loss: 0.3439 - accuracy: 0.8481 - val_loss: 0.3692 - val_accuracy: 0.8342\n",
            "Epoch 6/50\n",
            "782/782 [==============================] - 11s 14ms/step - loss: 0.3265 - accuracy: 0.8568 - val_loss: 0.3597 - val_accuracy: 0.8399\n",
            "Epoch 7/50\n",
            "782/782 [==============================] - 12s 15ms/step - loss: 0.3085 - accuracy: 0.8647 - val_loss: 0.3656 - val_accuracy: 0.8389\n",
            "Epoch 8/50\n",
            "782/782 [==============================] - 12s 16ms/step - loss: 0.2966 - accuracy: 0.8722 - val_loss: 0.3780 - val_accuracy: 0.8327\n",
            "Epoch 9/50\n",
            "782/782 [==============================] - 12s 15ms/step - loss: 0.2797 - accuracy: 0.8830 - val_loss: 0.3904 - val_accuracy: 0.8334\n",
            "Epoch 10/50\n",
            "782/782 [==============================] - 12s 15ms/step - loss: 0.2709 - accuracy: 0.8869 - val_loss: 0.4127 - val_accuracy: 0.8292\n",
            "Epoch 11/50\n",
            "782/782 [==============================] - 12s 15ms/step - loss: 0.2530 - accuracy: 0.8956 - val_loss: 0.4297 - val_accuracy: 0.8254\n",
            "Epoch 12/50\n",
            "782/782 [==============================] - 12s 15ms/step - loss: 0.2437 - accuracy: 0.8989 - val_loss: 0.4431 - val_accuracy: 0.8235\n",
            "Epoch 13/50\n",
            "782/782 [==============================] - 12s 15ms/step - loss: 0.2219 - accuracy: 0.9075 - val_loss: 0.4686 - val_accuracy: 0.8180\n",
            "Epoch 14/50\n",
            "782/782 [==============================] - 12s 15ms/step - loss: 0.2117 - accuracy: 0.9117 - val_loss: 0.4848 - val_accuracy: 0.8190\n",
            "Epoch 15/50\n",
            "782/782 [==============================] - 12s 15ms/step - loss: 0.1948 - accuracy: 0.9201 - val_loss: 0.5221 - val_accuracy: 0.8142\n",
            "Epoch 16/50\n",
            "782/782 [==============================] - 12s 16ms/step - loss: 0.1802 - accuracy: 0.9252 - val_loss: 0.5515 - val_accuracy: 0.8077\n",
            "Epoch 17/50\n",
            "782/782 [==============================] - 12s 15ms/step - loss: 0.1697 - accuracy: 0.9300 - val_loss: 0.6086 - val_accuracy: 0.8012\n",
            "Epoch 18/50\n",
            "782/782 [==============================] - 12s 16ms/step - loss: 0.1524 - accuracy: 0.9373 - val_loss: 0.6169 - val_accuracy: 0.8110\n",
            "Epoch 19/50\n",
            "782/782 [==============================] - 12s 16ms/step - loss: 0.1406 - accuracy: 0.9399 - val_loss: 0.6731 - val_accuracy: 0.8047\n",
            "Epoch 20/50\n",
            "782/782 [==============================] - 12s 15ms/step - loss: 0.1296 - accuracy: 0.9468 - val_loss: 0.7348 - val_accuracy: 0.8009\n",
            "Epoch 21/50\n",
            "782/782 [==============================] - 12s 15ms/step - loss: 0.1197 - accuracy: 0.9497 - val_loss: 0.7701 - val_accuracy: 0.8016\n",
            "Epoch 22/50\n",
            "782/782 [==============================] - 12s 15ms/step - loss: 0.1108 - accuracy: 0.9533 - val_loss: 0.7673 - val_accuracy: 0.7992\n",
            "Epoch 23/50\n",
            "782/782 [==============================] - 12s 15ms/step - loss: 0.1071 - accuracy: 0.9548 - val_loss: 0.9031 - val_accuracy: 0.8038\n",
            "Epoch 24/50\n",
            "782/782 [==============================] - 12s 15ms/step - loss: 0.0944 - accuracy: 0.9605 - val_loss: 0.9548 - val_accuracy: 0.8021\n",
            "Epoch 25/50\n",
            "782/782 [==============================] - 11s 15ms/step - loss: 0.0808 - accuracy: 0.9657 - val_loss: 1.0145 - val_accuracy: 0.8002\n",
            "Epoch 26/50\n",
            "782/782 [==============================] - 12s 15ms/step - loss: 0.0784 - accuracy: 0.9661 - val_loss: 1.0303 - val_accuracy: 0.7895\n",
            "Epoch 27/50\n",
            "782/782 [==============================] - 12s 16ms/step - loss: 0.0875 - accuracy: 0.9643 - val_loss: 1.0388 - val_accuracy: 0.7952\n",
            "Epoch 28/50\n",
            "782/782 [==============================] - 12s 15ms/step - loss: 0.0631 - accuracy: 0.9741 - val_loss: 1.0680 - val_accuracy: 0.7956\n",
            "Epoch 29/50\n",
            "782/782 [==============================] - 12s 16ms/step - loss: 0.0661 - accuracy: 0.9757 - val_loss: 1.2355 - val_accuracy: 0.7977\n",
            "Epoch 30/50\n",
            "782/782 [==============================] - 12s 15ms/step - loss: 0.0642 - accuracy: 0.9749 - val_loss: 1.2196 - val_accuracy: 0.8026\n",
            "Epoch 31/50\n",
            "782/782 [==============================] - 12s 15ms/step - loss: 0.0590 - accuracy: 0.9781 - val_loss: 1.1935 - val_accuracy: 0.7971\n",
            "Epoch 32/50\n",
            "782/782 [==============================] - 12s 15ms/step - loss: 0.0618 - accuracy: 0.9755 - val_loss: 1.3301 - val_accuracy: 0.7840\n",
            "Epoch 33/50\n",
            "782/782 [==============================] - 11s 15ms/step - loss: 0.0450 - accuracy: 0.9818 - val_loss: 1.3996 - val_accuracy: 0.7952\n",
            "Epoch 34/50\n",
            "782/782 [==============================] - 12s 15ms/step - loss: 0.0472 - accuracy: 0.9811 - val_loss: 1.4129 - val_accuracy: 0.8020\n",
            "Epoch 35/50\n",
            "782/782 [==============================] - 12s 16ms/step - loss: 0.0657 - accuracy: 0.9777 - val_loss: 1.4343 - val_accuracy: 0.7951\n",
            "Epoch 36/50\n",
            "782/782 [==============================] - 11s 15ms/step - loss: 0.0384 - accuracy: 0.9842 - val_loss: 1.4926 - val_accuracy: 0.7974\n",
            "Epoch 37/50\n",
            "782/782 [==============================] - 12s 16ms/step - loss: 0.0345 - accuracy: 0.9872 - val_loss: 1.5809 - val_accuracy: 0.7976\n",
            "Epoch 38/50\n",
            "782/782 [==============================] - 12s 16ms/step - loss: 0.0377 - accuracy: 0.9860 - val_loss: 1.5734 - val_accuracy: 0.7901\n",
            "Epoch 39/50\n",
            "782/782 [==============================] - 12s 15ms/step - loss: 0.0376 - accuracy: 0.9864 - val_loss: 1.5752 - val_accuracy: 0.7965\n",
            "Epoch 40/50\n",
            "782/782 [==============================] - 11s 15ms/step - loss: 0.0355 - accuracy: 0.9857 - val_loss: 1.7315 - val_accuracy: 0.7909\n",
            "Epoch 41/50\n",
            "782/782 [==============================] - 12s 16ms/step - loss: 0.0350 - accuracy: 0.9869 - val_loss: 1.7566 - val_accuracy: 0.7948\n",
            "Epoch 42/50\n",
            "782/782 [==============================] - 12s 15ms/step - loss: 0.0238 - accuracy: 0.9914 - val_loss: 1.8117 - val_accuracy: 0.7975\n",
            "Epoch 43/50\n",
            "782/782 [==============================] - 11s 15ms/step - loss: 0.0283 - accuracy: 0.9900 - val_loss: 1.7702 - val_accuracy: 0.7954\n",
            "Epoch 44/50\n",
            "782/782 [==============================] - 12s 15ms/step - loss: 0.0268 - accuracy: 0.9898 - val_loss: 1.7453 - val_accuracy: 0.7928\n",
            "Epoch 45/50\n",
            "782/782 [==============================] - 12s 16ms/step - loss: 0.0335 - accuracy: 0.9878 - val_loss: 1.7894 - val_accuracy: 0.7951\n",
            "Epoch 46/50\n",
            "782/782 [==============================] - 12s 15ms/step - loss: 0.0241 - accuracy: 0.9908 - val_loss: 1.8279 - val_accuracy: 0.7938\n",
            "Epoch 47/50\n",
            "782/782 [==============================] - 12s 15ms/step - loss: 0.0254 - accuracy: 0.9909 - val_loss: 1.8279 - val_accuracy: 0.7906\n",
            "Epoch 48/50\n",
            "782/782 [==============================] - 12s 15ms/step - loss: 0.0227 - accuracy: 0.9923 - val_loss: 1.8580 - val_accuracy: 0.7944\n",
            "Epoch 49/50\n",
            "782/782 [==============================] - 12s 15ms/step - loss: 0.0221 - accuracy: 0.9920 - val_loss: 1.8707 - val_accuracy: 0.7991\n",
            "Epoch 50/50\n",
            "782/782 [==============================] - 12s 15ms/step - loss: 0.0323 - accuracy: 0.9885 - val_loss: 1.9473 - val_accuracy: 0.7995\n"
          ],
          "name": "stdout"
        }
      ]
    },
    {
      "cell_type": "code",
      "metadata": {
        "colab": {
          "base_uri": "https://localhost:8080/",
          "height": 542
        },
        "id": "ySadsozio2_9",
        "outputId": "272e634d-ac1f-4ee2-80c3-329c128d5ac0"
      },
      "source": [
        "plot_graphs(history2, 'accuracy')\r\n",
        "plot_graphs(history2, 'loss')"
      ],
      "execution_count": 11,
      "outputs": [
        {
          "output_type": "display_data",
          "data": {
            "image/png": "[encoded data removed]",
            "text/plain": [
              "<Figure size 432x288 with 1 Axes>"
            ]
          },
          "metadata": {
            "tags": [],
            "needs_background": "light"
          }
        },
        {
          "output_type": "display_data",
          "data": {
            "image/png": "[encoded data removed]",
            "text/plain": [
              "<Figure size 432x288 with 1 Axes>"
            ]
          },
          "metadata": {
            "tags": [],
            "needs_background": "light"
          }
        }
      ]
    },
    {
      "cell_type": "code",
      "metadata": {
        "colab": {
          "base_uri": "https://localhost:8080/"
        },
        "id": "ZA6uzOVWpDmF",
        "outputId": "833017de-55f4-4796-a606-49c1ec998cfc"
      },
      "source": [
        "model3 = tf.keras.Sequential([\r\n",
        "    tf.keras.layers.Embedding(vocab_size, embed_dim, input_length=maxlen),\r\n",
        "    tf.keras.layers.Conv1D(128, 5, activation='relu'),\r\n",
        "    tf.keras.layers.GlobalAveragePooling1D(),\r\n",
        "    tf.keras.layers.Dense(6, activation='relu'),\r\n",
        "    tf.keras.layers.Dense(1, activation='sigmoid')\r\n",
        "])\r\n",
        "model3.compile(loss='binary_crossentropy',optimizer='adam',metrics=['accuracy'])\r\n",
        "model.summary()"
      ],
      "execution_count": 14,
      "outputs": [
        {
          "output_type": "stream",
          "text": [
            "Model: \"sequential\"\n",
            "_________________________________________________________________\n",
            "Layer (type)                 Output Shape              Param #   \n",
            "=================================================================\n",
            "embedding (Embedding)        (None, 120, 32)           32000     \n",
            "_________________________________________________________________\n",
            "bidirectional (Bidirectional (None, 64)                16640     \n",
            "_________________________________________________________________\n",
            "dense (Dense)                (None, 6)                 390       \n",
            "_________________________________________________________________\n",
            "dense_1 (Dense)              (None, 1)                 7         \n",
            "=================================================================\n",
            "Total params: 49,037\n",
            "Trainable params: 49,037\n",
            "Non-trainable params: 0\n",
            "_________________________________________________________________\n"
          ],
          "name": "stdout"
        }
      ]
    },
    {
      "cell_type": "code",
      "metadata": {
        "colab": {
          "base_uri": "https://localhost:8080/"
        },
        "id": "9oEeJwaPpt_5",
        "outputId": "dfa31748-478a-429e-f1c7-14c571dfe61f"
      },
      "source": [
        "history3 = model3.fit(\r\n",
        "    padded, training_labels_final, epochs=num_epochs, validation_data=(padded_test_seq, testing_labels_final)\r\n",
        ")"
      ],
      "execution_count": 15,
      "outputs": [
        {
          "output_type": "stream",
          "text": [
            "Epoch 1/50\n",
            "782/782 [==============================] - 6s 6ms/step - loss: 0.5780 - accuracy: 0.6619 - val_loss: 0.3867 - val_accuracy: 0.8234\n",
            "Epoch 2/50\n",
            "782/782 [==============================] - 5s 6ms/step - loss: 0.4022 - accuracy: 0.8186 - val_loss: 0.3735 - val_accuracy: 0.8302\n",
            "Epoch 3/50\n",
            "782/782 [==============================] - 5s 6ms/step - loss: 0.3842 - accuracy: 0.8257 - val_loss: 0.3693 - val_accuracy: 0.8315\n",
            "Epoch 4/50\n",
            "782/782 [==============================] - 5s 6ms/step - loss: 0.3786 - accuracy: 0.8286 - val_loss: 0.3654 - val_accuracy: 0.8346\n",
            "Epoch 5/50\n",
            "782/782 [==============================] - 5s 6ms/step - loss: 0.3685 - accuracy: 0.8335 - val_loss: 0.3642 - val_accuracy: 0.8354\n",
            "Epoch 6/50\n",
            "782/782 [==============================] - 5s 6ms/step - loss: 0.3604 - accuracy: 0.8399 - val_loss: 0.3756 - val_accuracy: 0.8308\n",
            "Epoch 7/50\n",
            "782/782 [==============================] - 5s 6ms/step - loss: 0.3567 - accuracy: 0.8389 - val_loss: 0.3752 - val_accuracy: 0.8298\n",
            "Epoch 8/50\n",
            "782/782 [==============================] - 5s 6ms/step - loss: 0.3467 - accuracy: 0.8463 - val_loss: 0.3633 - val_accuracy: 0.8356\n",
            "Epoch 9/50\n",
            "782/782 [==============================] - 5s 6ms/step - loss: 0.3338 - accuracy: 0.8518 - val_loss: 0.3640 - val_accuracy: 0.8348\n",
            "Epoch 10/50\n",
            "782/782 [==============================] - 5s 6ms/step - loss: 0.3302 - accuracy: 0.8549 - val_loss: 0.3630 - val_accuracy: 0.8365\n",
            "Epoch 11/50\n",
            "782/782 [==============================] - 5s 6ms/step - loss: 0.3165 - accuracy: 0.8630 - val_loss: 0.3673 - val_accuracy: 0.8377\n",
            "Epoch 12/50\n",
            "782/782 [==============================] - 5s 6ms/step - loss: 0.3060 - accuracy: 0.8683 - val_loss: 0.3695 - val_accuracy: 0.8360\n",
            "Epoch 13/50\n",
            "782/782 [==============================] - 5s 6ms/step - loss: 0.2861 - accuracy: 0.8774 - val_loss: 0.3770 - val_accuracy: 0.8344\n",
            "Epoch 14/50\n",
            "782/782 [==============================] - 5s 6ms/step - loss: 0.2812 - accuracy: 0.8821 - val_loss: 0.3829 - val_accuracy: 0.8326\n",
            "Epoch 15/50\n",
            "782/782 [==============================] - 5s 6ms/step - loss: 0.2602 - accuracy: 0.8909 - val_loss: 0.3948 - val_accuracy: 0.8280\n",
            "Epoch 16/50\n",
            "782/782 [==============================] - 5s 6ms/step - loss: 0.2577 - accuracy: 0.8946 - val_loss: 0.4024 - val_accuracy: 0.8304\n",
            "Epoch 17/50\n",
            "782/782 [==============================] - 5s 6ms/step - loss: 0.2438 - accuracy: 0.9013 - val_loss: 0.4190 - val_accuracy: 0.8308\n",
            "Epoch 18/50\n",
            "782/782 [==============================] - 5s 6ms/step - loss: 0.2297 - accuracy: 0.9101 - val_loss: 0.4323 - val_accuracy: 0.8198\n",
            "Epoch 19/50\n",
            "782/782 [==============================] - 5s 6ms/step - loss: 0.2189 - accuracy: 0.9132 - val_loss: 0.4432 - val_accuracy: 0.8240\n",
            "Epoch 20/50\n",
            "782/782 [==============================] - 5s 6ms/step - loss: 0.2095 - accuracy: 0.9212 - val_loss: 0.4585 - val_accuracy: 0.8232\n",
            "Epoch 21/50\n",
            "782/782 [==============================] - 5s 6ms/step - loss: 0.1936 - accuracy: 0.9269 - val_loss: 0.4744 - val_accuracy: 0.8180\n",
            "Epoch 22/50\n",
            "782/782 [==============================] - 5s 6ms/step - loss: 0.1833 - accuracy: 0.9320 - val_loss: 0.5254 - val_accuracy: 0.8155\n",
            "Epoch 23/50\n",
            "782/782 [==============================] - 5s 6ms/step - loss: 0.1703 - accuracy: 0.9390 - val_loss: 0.5203 - val_accuracy: 0.8141\n",
            "Epoch 24/50\n",
            "782/782 [==============================] - 5s 6ms/step - loss: 0.1560 - accuracy: 0.9454 - val_loss: 0.5597 - val_accuracy: 0.8138\n",
            "Epoch 25/50\n",
            "782/782 [==============================] - 5s 6ms/step - loss: 0.1441 - accuracy: 0.9527 - val_loss: 0.5864 - val_accuracy: 0.8126\n",
            "Epoch 26/50\n",
            "782/782 [==============================] - 5s 6ms/step - loss: 0.1306 - accuracy: 0.9543 - val_loss: 0.6030 - val_accuracy: 0.8097\n",
            "Epoch 27/50\n",
            "782/782 [==============================] - 5s 6ms/step - loss: 0.1179 - accuracy: 0.9617 - val_loss: 0.6477 - val_accuracy: 0.8007\n",
            "Epoch 28/50\n",
            "782/782 [==============================] - 5s 6ms/step - loss: 0.1075 - accuracy: 0.9669 - val_loss: 0.7481 - val_accuracy: 0.8067\n",
            "Epoch 29/50\n",
            "782/782 [==============================] - 5s 6ms/step - loss: 0.0979 - accuracy: 0.9722 - val_loss: 0.7699 - val_accuracy: 0.8078\n",
            "Epoch 30/50\n",
            "782/782 [==============================] - 5s 7ms/step - loss: 0.0910 - accuracy: 0.9750 - val_loss: 0.7751 - val_accuracy: 0.8018\n",
            "Epoch 31/50\n",
            "782/782 [==============================] - 5s 6ms/step - loss: 0.0756 - accuracy: 0.9789 - val_loss: 0.8098 - val_accuracy: 0.8053\n",
            "Epoch 32/50\n",
            "782/782 [==============================] - 5s 6ms/step - loss: 0.0684 - accuracy: 0.9829 - val_loss: 0.8783 - val_accuracy: 0.8032\n",
            "Epoch 33/50\n",
            "782/782 [==============================] - 5s 6ms/step - loss: 0.0591 - accuracy: 0.9850 - val_loss: 0.8778 - val_accuracy: 0.7928\n",
            "Epoch 34/50\n",
            "782/782 [==============================] - 5s 6ms/step - loss: 0.0562 - accuracy: 0.9852 - val_loss: 1.0226 - val_accuracy: 0.7996\n",
            "Epoch 35/50\n",
            "782/782 [==============================] - 5s 6ms/step - loss: 0.0538 - accuracy: 0.9864 - val_loss: 1.0122 - val_accuracy: 0.8029\n",
            "Epoch 36/50\n",
            "782/782 [==============================] - 5s 6ms/step - loss: 0.0477 - accuracy: 0.9872 - val_loss: 1.1831 - val_accuracy: 0.7945\n",
            "Epoch 37/50\n",
            "782/782 [==============================] - 5s 6ms/step - loss: 0.0422 - accuracy: 0.9890 - val_loss: 1.1958 - val_accuracy: 0.8007\n",
            "Epoch 38/50\n",
            "782/782 [==============================] - 5s 6ms/step - loss: 0.0371 - accuracy: 0.9898 - val_loss: 1.1493 - val_accuracy: 0.7964\n",
            "Epoch 39/50\n",
            "782/782 [==============================] - 5s 6ms/step - loss: 0.0371 - accuracy: 0.9898 - val_loss: 1.2345 - val_accuracy: 0.7962\n",
            "Epoch 40/50\n",
            "782/782 [==============================] - 5s 6ms/step - loss: 0.0336 - accuracy: 0.9894 - val_loss: 1.3111 - val_accuracy: 0.8012\n",
            "Epoch 41/50\n",
            "782/782 [==============================] - 5s 6ms/step - loss: 0.0319 - accuracy: 0.9904 - val_loss: 1.2946 - val_accuracy: 0.7976\n",
            "Epoch 42/50\n",
            "782/782 [==============================] - 5s 6ms/step - loss: 0.0330 - accuracy: 0.9900 - val_loss: 1.3931 - val_accuracy: 0.7943\n",
            "Epoch 43/50\n",
            "782/782 [==============================] - 5s 6ms/step - loss: 0.0362 - accuracy: 0.9882 - val_loss: 1.3711 - val_accuracy: 0.7966\n",
            "Epoch 44/50\n",
            "782/782 [==============================] - 5s 6ms/step - loss: 0.0240 - accuracy: 0.9934 - val_loss: 1.5779 - val_accuracy: 0.7972\n",
            "Epoch 45/50\n",
            "782/782 [==============================] - 5s 6ms/step - loss: 0.0341 - accuracy: 0.9877 - val_loss: 1.4518 - val_accuracy: 0.7978\n",
            "Epoch 46/50\n",
            "782/782 [==============================] - 5s 6ms/step - loss: 0.0273 - accuracy: 0.9907 - val_loss: 1.4607 - val_accuracy: 0.7913\n",
            "Epoch 47/50\n",
            "782/782 [==============================] - 5s 6ms/step - loss: 0.0265 - accuracy: 0.9903 - val_loss: 1.5686 - val_accuracy: 0.7995\n",
            "Epoch 48/50\n",
            "782/782 [==============================] - 5s 6ms/step - loss: 0.0238 - accuracy: 0.9913 - val_loss: 1.6682 - val_accuracy: 0.8014\n",
            "Epoch 49/50\n",
            "782/782 [==============================] - 5s 6ms/step - loss: 0.0244 - accuracy: 0.9912 - val_loss: 1.6406 - val_accuracy: 0.7925\n",
            "Epoch 50/50\n",
            "782/782 [==============================] - 5s 6ms/step - loss: 0.0339 - accuracy: 0.9876 - val_loss: 1.6316 - val_accuracy: 0.7926\n"
          ],
          "name": "stdout"
        }
      ]
    },
    {
      "cell_type": "code",
      "metadata": {
        "colab": {
          "base_uri": "https://localhost:8080/",
          "height": 546
        },
        "id": "DOOpbA1upyj5",
        "outputId": "657e1d36-cf8c-422a-fce1-3c8401f3fee1"
      },
      "source": [
        "plot_graphs(history3, 'accuracy')\r\n",
        "plot_graphs(history3, 'loss')"
      ],
      "execution_count": 16,
      "outputs": [
        {
          "output_type": "display_data",
          "data": {
            "image/png": "[encoded data removed]",
            "text/plain": [
              "<Figure size 432x288 with 1 Axes>"
            ]
          },
          "metadata": {
            "tags": [],
            "needs_background": "light"
          }
        },
        {
          "output_type": "display_data",
          "data": {
            "image/png": "[encoded data removed]",
            "text/plain": [
              "<Figure size 432x288 with 1 Axes>"
            ]
          },
          "metadata": {
            "tags": [],
            "needs_background": "light"
          }
        }
      ]
    },
    {
      "cell_type": "code",
      "metadata": {
        "id": "Ji7g8Q9np9Z5"
      },
      "source": [
        ""
      ],
      "execution_count": null,
      "outputs": []
    }
  ]
}