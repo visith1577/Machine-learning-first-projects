{
  "nbformat": 4,
  "nbformat_minor": 0,
  "metadata": {
    "colab": {
      "name": "ANN_func.ipynb",
      "provenance": [],
      "authorship_tag": "ABX9TyOzgfaGLmxZ6rebQly4b+6Y",
      "include_colab_link": true
    },
    "kernelspec": {
      "name": "python3",
      "display_name": "Python 3"
    }
  },
  "cells": [
    {
      "cell_type": "markdown",
      "metadata": {
        "id": "view-in-github",
        "colab_type": "text"
      },
      "source": [
        "<a href=\"https://colab.research.google.com/github/visith1577/Machine-learning-first-projects/blob/main/ANN_func.ipynb\" target=\"_parent\"><img src=\"https://colab.research.google.com/assets/colab-badge.svg\" alt=\"Open In Colab\"/></a>"
      ]
    },
    {
      "cell_type": "code",
      "metadata": {
        "id": "wUki3PyhZwnn"
      },
      "source": [
        "import tensorflow as tf\r\n",
        "import numpy as np \r\n",
        "import matplotlib.pyplot as plt\r\n",
        "%matplotlib inline"
      ],
      "execution_count": 1,
      "outputs": []
    },
    {
      "cell_type": "code",
      "metadata": {
        "id": "LNmJYJY9ab_L"
      },
      "source": [
        "MNIST = tf.keras.datasets.mnist"
      ],
      "execution_count": 3,
      "outputs": []
    },
    {
      "cell_type": "code",
      "metadata": {
        "colab": {
          "base_uri": "https://localhost:8080/"
        },
        "id": "7_YYiJO4a915",
        "outputId": "4842959b-4aad-4902-ea56-101a8e0ce49a"
      },
      "source": [
        "(x_train, y_train), (x_test, y_test) = MNIST.load_data()"
      ],
      "execution_count": 4,
      "outputs": [
        {
          "output_type": "stream",
          "text": [
            "Downloading data from https://storage.googleapis.com/tensorflow/tf-keras-datasets/mnist.npz\n",
            "11493376/11490434 [==============================] - 0s 0us/step\n"
          ],
          "name": "stdout"
        }
      ]
    },
    {
      "cell_type": "code",
      "metadata": {
        "colab": {
          "base_uri": "https://localhost:8080/"
        },
        "id": "BeQes59XbPh4",
        "outputId": "21345ff5-3e3c-4bd5-e0d2-bc58e20bff43"
      },
      "source": [
        "x_train.shape"
      ],
      "execution_count": 5,
      "outputs": [
        {
          "output_type": "execute_result",
          "data": {
            "text/plain": [
              "(60000, 28, 28)"
            ]
          },
          "metadata": {
            "tags": []
          },
          "execution_count": 5
        }
      ]
    },
    {
      "cell_type": "code",
      "metadata": {
        "colab": {
          "base_uri": "https://localhost:8080/"
        },
        "id": "VWP9FIVGbTms",
        "outputId": "d7f32d75-0e3d-4269-d8e1-585fd65970b7"
      },
      "source": [
        "x_test.shape"
      ],
      "execution_count": 7,
      "outputs": [
        {
          "output_type": "execute_result",
          "data": {
            "text/plain": [
              "(10000, 28, 28)"
            ]
          },
          "metadata": {
            "tags": []
          },
          "execution_count": 7
        }
      ]
    },
    {
      "cell_type": "code",
      "metadata": {
        "id": "MgNmLPMVbWOe"
      },
      "source": [
        "x_train = x_train.reshape(-1, 28*28).astype('float32')/ 255.0\r\n",
        "x_test = x_test.reshape(-1, 28*28).astype('float32')/ 255.0"
      ],
      "execution_count": 8,
      "outputs": []
    },
    {
      "cell_type": "code",
      "metadata": {
        "id": "NouXnGR4cAWw"
      },
      "source": [
        "#using functional API\r\n",
        "\r\n",
        "inputs = tf.keras.Input(shape=(784))\r\n",
        "x = tf.keras.layers.Dense(512, activation='relu')(inputs)\r\n",
        "x = tf.keras.layers.Dense(256, activation='relu')(x)\r\n",
        "x = tf.keras.layers.Dense(128, activation='relu')(x)\r\n",
        "outputs = tf.keras.layers.Dense(10, activation='softmax')(x)\r\n",
        "model = tf.keras.Model(inputs=inputs, outputs=outputs)"
      ],
      "execution_count": 10,
      "outputs": []
    },
    {
      "cell_type": "code",
      "metadata": {
        "id": "WWo2cXGWeXi_"
      },
      "source": [
        "model.compile(\r\n",
        "    loss=tf.keras.losses.SparseCategoricalCrossentropy(from_logits=False),\r\n",
        "    optimizer=tf.keras.optimizers.Adam(lr=0.001),\r\n",
        "    metrics=[\"accuracy\"],\r\n",
        ")"
      ],
      "execution_count": 12,
      "outputs": []
    },
    {
      "cell_type": "code",
      "metadata": {
        "colab": {
          "base_uri": "https://localhost:8080/"
        },
        "id": "OqQu517TfRm7",
        "outputId": "216e176d-e296-4fb4-c685-56a0d9d50827"
      },
      "source": [
        "history = model.fit(x_train, y_train, batch_size=32, epochs= 10, verbose=2)"
      ],
      "execution_count": 14,
      "outputs": [
        {
          "output_type": "stream",
          "text": [
            "Epoch 1/10\n",
            "1875/1875 - 10s - loss: 0.1968 - accuracy: 0.9405\n",
            "Epoch 2/10\n",
            "1875/1875 - 9s - loss: 0.0883 - accuracy: 0.9727\n",
            "Epoch 3/10\n",
            "1875/1875 - 9s - loss: 0.0625 - accuracy: 0.9808\n",
            "Epoch 4/10\n",
            "1875/1875 - 9s - loss: 0.0503 - accuracy: 0.9843\n",
            "Epoch 5/10\n",
            "1875/1875 - 9s - loss: 0.0377 - accuracy: 0.9875\n",
            "Epoch 6/10\n",
            "1875/1875 - 9s - loss: 0.0327 - accuracy: 0.9895\n",
            "Epoch 7/10\n",
            "1875/1875 - 9s - loss: 0.0272 - accuracy: 0.9912\n",
            "Epoch 8/10\n",
            "1875/1875 - 9s - loss: 0.0253 - accuracy: 0.9924\n",
            "Epoch 9/10\n",
            "1875/1875 - 9s - loss: 0.0225 - accuracy: 0.9934\n",
            "Epoch 10/10\n",
            "1875/1875 - 9s - loss: 0.0211 - accuracy: 0.9934\n"
          ],
          "name": "stdout"
        }
      ]
    },
    {
      "cell_type": "code",
      "metadata": {
        "colab": {
          "base_uri": "https://localhost:8080/",
          "height": 298
        },
        "id": "MV3SGfR4gOlG",
        "outputId": "2563987f-9274-4d55-c9e2-6f574a365121"
      },
      "source": [
        "loss = history.history['loss']\r\n",
        "accuracy = history.history['accuracy']\r\n",
        "\r\n",
        "epoch = range(len(accuracy))\r\n",
        "\r\n",
        "plt.plot(epoch,loss, 'r', label='Loss')\r\n",
        "plt.plot(epoch,accuracy, 'b', label='accuracy')\r\n",
        "plt.title('Training and validation accuracy')\r\n",
        "plt.legend(loc=0)\r\n",
        "plt.figure()\r\n",
        "\r\n",
        "\r\n",
        "plt.show()"
      ],
      "execution_count": 19,
      "outputs": [
        {
          "output_type": "display_data",
          "data": {
            "image/png": "[encoded data removed]",
            "text/plain": [
              "<Figure size 432x288 with 1 Axes>"
            ]
          },
          "metadata": {
            "tags": [],
            "needs_background": "light"
          }
        },
        {
          "output_type": "display_data",
          "data": {
            "text/plain": [
              "<Figure size 432x288 with 0 Axes>"
            ]
          },
          "metadata": {
            "tags": []
          }
        }
      ]
    },
    {
      "cell_type": "code",
      "metadata": {
        "id": "4P-oDRrBiyC5"
      },
      "source": [
        ""
      ],
      "execution_count": 17,
      "outputs": []
    }
  ]
}