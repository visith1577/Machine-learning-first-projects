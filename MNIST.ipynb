{
  "nbformat": 4,
  "nbformat_minor": 0,
  "metadata": {
    "colab": {
      "name": "MNIST.ipynb",
      "provenance": [],
      "authorship_tag": "ABX9TyNi1fOf6ntgBhMXvIQecg20",
      "include_colab_link": true
    },
    "kernelspec": {
      "name": "python3",
      "display_name": "Python 3"
    },
    "accelerator": "GPU"
  },
  "cells": [
    {
      "cell_type": "markdown",
      "metadata": {
        "id": "view-in-github",
        "colab_type": "text"
      },
      "source": [
        "<a href=\"https://colab.research.google.com/github/visith1577/Machine-learning-first-projects/blob/main/MNIST.ipynb\" target=\"_parent\"><img src=\"https://colab.research.google.com/assets/colab-badge.svg\" alt=\"Open In Colab\"/></a>"
      ]
    },
    {
      "cell_type": "code",
      "metadata": {
        "id": "LOs0R9wTyuDg"
      },
      "source": [
        "import torch\r\n",
        "import torchvision\r\n",
        "import torch.nn as nn\r\n",
        "import matplotlib.pyplot as plt\r\n",
        "import numpy as np\r\n",
        "import torchvision.transforms as transforms"
      ],
      "execution_count": 1,
      "outputs": []
    },
    {
      "cell_type": "code",
      "metadata": {
        "id": "93SNd-kM0fu1"
      },
      "source": [
        "train_dataset = torchvision.datasets.MNIST(root='.', \r\n",
        "                                           train=True, \r\n",
        "                                           download=True,\r\n",
        "                                          transform = transforms.ToTensor())"
      ],
      "execution_count": 2,
      "outputs": []
    },
    {
      "cell_type": "code",
      "metadata": {
        "colab": {
          "base_uri": "https://localhost:8080/"
        },
        "id": "mC6liJsm1hI4",
        "outputId": "9d880608-02fb-4a37-fec0-b2cb68e61677"
      },
      "source": [
        "train_dataset.data.max()"
      ],
      "execution_count": 3,
      "outputs": [
        {
          "output_type": "execute_result",
          "data": {
            "text/plain": [
              "tensor(255, dtype=torch.uint8)"
            ]
          },
          "metadata": {
            "tags": []
          },
          "execution_count": 3
        }
      ]
    },
    {
      "cell_type": "code",
      "metadata": {
        "colab": {
          "base_uri": "https://localhost:8080/"
        },
        "id": "8_9We8fd1yqx",
        "outputId": "e52c7a26-1cbd-4e37-b0f9-05405a1ee488"
      },
      "source": [
        "train_dataset.data.min()"
      ],
      "execution_count": 4,
      "outputs": [
        {
          "output_type": "execute_result",
          "data": {
            "text/plain": [
              "tensor(0, dtype=torch.uint8)"
            ]
          },
          "metadata": {
            "tags": []
          },
          "execution_count": 4
        }
      ]
    },
    {
      "cell_type": "code",
      "metadata": {
        "colab": {
          "base_uri": "https://localhost:8080/"
        },
        "id": "y02Ar0Cb13Vt",
        "outputId": "f7e1b0ad-d180-4c53-a08e-4d06d2409751"
      },
      "source": [
        "train_dataset.data.shape"
      ],
      "execution_count": 5,
      "outputs": [
        {
          "output_type": "execute_result",
          "data": {
            "text/plain": [
              "torch.Size([60000, 28, 28])"
            ]
          },
          "metadata": {
            "tags": []
          },
          "execution_count": 5
        }
      ]
    },
    {
      "cell_type": "code",
      "metadata": {
        "id": "KB7vBHT12DP9"
      },
      "source": [
        "test_dataset = torchvision.datasets.MNIST(root='.',\r\n",
        "                                          train = False,\r\n",
        "                                          download = True,\r\n",
        "                                          transform = transforms.ToTensor())"
      ],
      "execution_count": 6,
      "outputs": []
    },
    {
      "cell_type": "code",
      "metadata": {
        "colab": {
          "base_uri": "https://localhost:8080/"
        },
        "id": "fukdQVnl2ZJY",
        "outputId": "2c81f54b-cd28-4707-f5a5-37c2a9e0dbc7"
      },
      "source": [
        "test_dataset.data.shape"
      ],
      "execution_count": 7,
      "outputs": [
        {
          "output_type": "execute_result",
          "data": {
            "text/plain": [
              "torch.Size([10000, 28, 28])"
            ]
          },
          "metadata": {
            "tags": []
          },
          "execution_count": 7
        }
      ]
    },
    {
      "cell_type": "code",
      "metadata": {
        "colab": {
          "base_uri": "https://localhost:8080/"
        },
        "id": "Zm4t5lmn4IHD",
        "outputId": "df9c5b75-3a18-4f5c-fb86-c5e7824f47e9"
      },
      "source": [
        "K = len(set(train_dataset.targets.numpy()))\r\n",
        "print('No. f classes:' ,K)"
      ],
      "execution_count": 8,
      "outputs": [
        {
          "output_type": "stream",
          "text": [
            "No. f classes: 10\n"
          ],
          "name": "stdout"
        }
      ]
    },
    {
      "cell_type": "code",
      "metadata": {
        "id": "XPT3xgW8YS2z"
      },
      "source": [
        "#making the model\r\n",
        "model = nn.Sequential(\r\n",
        "    nn.Linear(784, 128),\r\n",
        "    nn.ReLU(),\r\n",
        "    nn.Linear(128, 64),\r\n",
        "    nn.ReLU(),\r\n",
        "    nn.Linear(64, 32),\r\n",
        "    nn.ReLU(),\r\n",
        "    nn.Linear(32, 10)\r\n",
        ")"
      ],
      "execution_count": 51,
      "outputs": []
    },
    {
      "cell_type": "code",
      "metadata": {
        "colab": {
          "base_uri": "https://localhost:8080/"
        },
        "id": "0jBIxnm57xzR",
        "outputId": "805009a4-bebd-4761-e91f-7c0f21c0c620"
      },
      "source": [
        "device = torch.device('cuda:0' if torch.cuda.is_available else 'cpu')\r\n",
        "print(device)"
      ],
      "execution_count": 52,
      "outputs": [
        {
          "output_type": "stream",
          "text": [
            "cuda:0\n"
          ],
          "name": "stdout"
        }
      ]
    },
    {
      "cell_type": "code",
      "metadata": {
        "colab": {
          "base_uri": "https://localhost:8080/"
        },
        "id": "lcdGvZEwJLfd",
        "outputId": "959ec5e9-1afd-4647-cfb1-de0f383b2a3b"
      },
      "source": [
        "model.to(device)"
      ],
      "execution_count": 53,
      "outputs": [
        {
          "output_type": "execute_result",
          "data": {
            "text/plain": [
              "Sequential(\n",
              "  (0): Linear(in_features=784, out_features=128, bias=True)\n",
              "  (1): ReLU()\n",
              "  (2): Linear(in_features=128, out_features=64, bias=True)\n",
              "  (3): ReLU()\n",
              "  (4): Linear(in_features=64, out_features=32, bias=True)\n",
              "  (5): ReLU()\n",
              "  (6): Linear(in_features=32, out_features=10, bias=True)\n",
              ")"
            ]
          },
          "metadata": {
            "tags": []
          },
          "execution_count": 53
        }
      ]
    },
    {
      "cell_type": "code",
      "metadata": {
        "id": "o8Xl4LtVJyMy"
      },
      "source": [
        "lr = 0.0001"
      ],
      "execution_count": 54,
      "outputs": []
    },
    {
      "cell_type": "code",
      "metadata": {
        "id": "gjHmlJHeJOfB"
      },
      "source": [
        "criterion = nn.CrossEntropyLoss()\r\n",
        "optimizer = torch.optim.SGD(model.parameters(), lr=lr, momentum=0.99)"
      ],
      "execution_count": 60,
      "outputs": []
    },
    {
      "cell_type": "code",
      "metadata": {
        "id": "oh_cQ1cAJtv1"
      },
      "source": [
        "batch_size = 32\r\n",
        "\r\n",
        "train_loader = torch.utils.data.DataLoader(\r\n",
        "    train_dataset,\r\n",
        "    batch_size,\r\n",
        "    shuffle=True\r\n",
        ")\r\n",
        "\r\n",
        "test_loader = torch.utils.data.DataLoader(\r\n",
        "    test_dataset,\r\n",
        "    batch_size\r\n",
        ")"
      ],
      "execution_count": 61,
      "outputs": []
    },
    {
      "cell_type": "code",
      "metadata": {
        "id": "of6ei74yNn5Y"
      },
      "source": [
        "from datetime import datetime"
      ],
      "execution_count": 62,
      "outputs": []
    },
    {
      "cell_type": "code",
      "metadata": {
        "id": "bUDs5Dju1yE6"
      },
      "source": [
        "def batch_gd(model, criterion, optimizer, train_loader, test_loader, epochs):\n",
        "  train_losses = np.zeros(epochs)\n",
        "  test_losses = np.zeros(epochs)\n",
        "\n",
        "  for it in range(epochs):\n",
        "    model.train()\n",
        "    t0 = datetime.now()\n",
        "    train_loss = []\n",
        "    for inputs, targets in train_loader:\n",
        "      \n",
        "      inputs, targets = inputs.to(device), targets.to(device)\n",
        "\n",
        "\n",
        "      inputs = inputs.view(-1, 784)\n",
        "\n",
        "      \n",
        "      optimizer.zero_grad()\n",
        "\n",
        "      \n",
        "      outputs = model(inputs)\n",
        "      loss = criterion(outputs, targets)\n",
        "        \n",
        "      \n",
        "      loss.backward()\n",
        "      optimizer.step()\n",
        "\n",
        "      train_loss.append(loss.item())\n",
        "\n",
        "    \n",
        "    train_loss = np.mean(train_loss) \n",
        "    \n",
        "    model.eval()\n",
        "    test_loss = []\n",
        "    for inputs, targets in test_loader:\n",
        "      inputs, targets = inputs.to(device), targets.to(device)\n",
        "      inputs = inputs.view(-1, 784)\n",
        "      outputs = model(inputs)\n",
        "      loss = criterion(outputs, targets)\n",
        "      test_loss.append(loss.item())\n",
        "    test_loss = np.mean(test_loss)\n",
        "\n",
        "    # Save losses\n",
        "    train_losses[it] = train_loss\n",
        "    test_losses[it] = test_loss\n",
        "    \n",
        "    dt = datetime.now() - t0\n",
        "    print(f'Epoch {it+1}/{epochs}, Train Loss: {train_loss:.4f}, \\\n",
        "      Test Loss: {test_loss:.4f}, Duration: {dt}')\n",
        "  \n",
        "  return train_losses, test_losses"
      ],
      "execution_count": 63,
      "outputs": []
    },
    {
      "cell_type": "code",
      "metadata": {
        "colab": {
          "base_uri": "https://localhost:8080/"
        },
        "id": "VbNidKYwNNSm",
        "outputId": "0211a0d7-c1a3-4b2a-de88-267e7f293ea7"
      },
      "source": [
        "train_losses, test_losses  = batch_gd(model, criterion, optimizer, train_loader, test_loader, 20)"
      ],
      "execution_count": 64,
      "outputs": [
        {
          "output_type": "stream",
          "text": [
            "Epoch 1/20, Train Loss: 1.9634,       Test Loss: 0.9176, Duration: 0:00:08.314988\n",
            "Epoch 2/20, Train Loss: 0.5732,       Test Loss: 0.4000, Duration: 0:00:08.795062\n",
            "Epoch 3/20, Train Loss: 0.3615,       Test Loss: 0.3110, Duration: 0:00:08.650475\n",
            "Epoch 4/20, Train Loss: 0.2912,       Test Loss: 0.2567, Duration: 0:00:08.552349\n",
            "Epoch 5/20, Train Loss: 0.2427,       Test Loss: 0.2174, Duration: 0:00:08.619288\n",
            "Epoch 6/20, Train Loss: 0.2047,       Test Loss: 0.1854, Duration: 0:00:08.926956\n",
            "Epoch 7/20, Train Loss: 0.1762,       Test Loss: 0.1663, Duration: 0:00:08.431830\n",
            "Epoch 8/20, Train Loss: 0.1543,       Test Loss: 0.1557, Duration: 0:00:08.365860\n",
            "Epoch 9/20, Train Loss: 0.1365,       Test Loss: 0.1333, Duration: 0:00:08.692428\n",
            "Epoch 10/20, Train Loss: 0.1228,       Test Loss: 0.1270, Duration: 0:00:08.758760\n",
            "Epoch 11/20, Train Loss: 0.1105,       Test Loss: 0.1261, Duration: 0:00:08.696930\n",
            "Epoch 12/20, Train Loss: 0.1012,       Test Loss: 0.1117, Duration: 0:00:08.665828\n",
            "Epoch 13/20, Train Loss: 0.0925,       Test Loss: 0.1047, Duration: 0:00:08.736117\n",
            "Epoch 14/20, Train Loss: 0.0845,       Test Loss: 0.1032, Duration: 0:00:08.920824\n",
            "Epoch 15/20, Train Loss: 0.0798,       Test Loss: 0.0965, Duration: 0:00:08.586443\n",
            "Epoch 16/20, Train Loss: 0.0718,       Test Loss: 0.0972, Duration: 0:00:08.902113\n",
            "Epoch 17/20, Train Loss: 0.0671,       Test Loss: 0.0926, Duration: 0:00:08.817511\n",
            "Epoch 18/20, Train Loss: 0.0626,       Test Loss: 0.0889, Duration: 0:00:08.584797\n",
            "Epoch 19/20, Train Loss: 0.0562,       Test Loss: 0.0918, Duration: 0:00:08.887340\n",
            "Epoch 20/20, Train Loss: 0.0536,       Test Loss: 0.0941, Duration: 0:00:09.265837\n"
          ],
          "name": "stdout"
        }
      ]
    },
    {
      "cell_type": "code",
      "metadata": {
        "id": "CegL80TFzc7M",
        "colab": {
          "base_uri": "https://localhost:8080/",
          "height": 265
        },
        "outputId": "90d84bd0-2629-4e87-ddf6-915faac89741"
      },
      "source": [
        "# Plot the train loss and test loss per iteration\n",
        "plt.plot(train_losses, label='train loss')\n",
        "plt.plot(test_losses, label='test loss')\n",
        "plt.legend()\n",
        "plt.show()"
      ],
      "execution_count": 65,
      "outputs": [
        {
          "output_type": "display_data",
          "data": {
            "image/png": "[encoded data removed]",
            "text/plain": [
              "<Figure size 432x288 with 1 Axes>"
            ]
          },
          "metadata": {
            "tags": [],
            "needs_background": "light"
          }
        }
      ]
    },
    {
      "cell_type": "code",
      "metadata": {
        "id": "RhjDy5sxzhiR",
        "colab": {
          "base_uri": "https://localhost:8080/"
        },
        "outputId": "6e081b71-c06e-40d2-ec0f-c89d72b53102"
      },
      "source": [
        "n_correct = 0.\n",
        "n_total = 0.\n",
        "for inputs, targets in train_loader:\n",
        "  # move data to GPU\n",
        "  inputs, targets = inputs.to(device), targets.to(device)\n",
        "\n",
        "  # reshape the input\n",
        "  inputs = inputs.view(-1, 784)\n",
        "\n",
        "  # Forward pass\n",
        "  outputs = model(inputs)\n",
        "\n",
        "  # Get prediction\n",
        "  # torch.max returns both max and argmax\n",
        "  _, predictions = torch.max(outputs, 1)\n",
        "  \n",
        "  # update counts\n",
        "  n_correct += (predictions == targets).sum().item()\n",
        "  n_total += targets.shape[0]\n",
        "\n",
        "train_acc = n_correct / n_total\n",
        "\n",
        "\n",
        "n_correct = 0.\n",
        "n_total = 0.\n",
        "for inputs, targets in test_loader:\n",
        "  # move data to GPU\n",
        "  inputs, targets = inputs.to(device), targets.to(device)\n",
        "\n",
        "  # reshape the input\n",
        "  inputs = inputs.view(-1, 784)\n",
        "\n",
        "  # Forward pass\n",
        "  outputs = model(inputs)\n",
        "\n",
        "  # Get prediction\n",
        "  # torch.max returns both max and argmax\n",
        "  _, predictions = torch.max(outputs, 1)\n",
        "  \n",
        "  # update counts\n",
        "  n_correct += (predictions == targets).sum().item()\n",
        "  n_total += targets.shape[0]\n",
        "\n",
        "test_acc = n_correct / n_total\n",
        "print(f\"Train acc: {train_acc:.4f}, Test acc: {test_acc:.4f}\")"
      ],
      "execution_count": 66,
      "outputs": [
        {
          "output_type": "stream",
          "text": [
            "Train acc: 0.9851, Test acc: 0.9709\n"
          ],
          "name": "stdout"
        }
      ]
    }
  ]
}